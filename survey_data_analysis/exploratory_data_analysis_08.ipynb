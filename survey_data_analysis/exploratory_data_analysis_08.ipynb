{
 "cells": [
  {
   "cell_type": "markdown",
   "metadata": {},
   "source": [
    "<font face='Avenir' size=5><p style=\"text-align:center\">Employment Survey EDA</p></font>"
   ]
  },
  {
   "cell_type": "markdown",
   "metadata": {},
   "source": [
    "<font face='Avenir' size=3>Using our data from a declarative surveys on jobs and employment, we'd like to answers the questions below, and explain how we came to these conclusions.<font><br>\n",
    "\n",
    "\n",
    "$\\circ$ <font face='Avenir' size=3>1. What is the distribution of expected net income, in relation to current net income?</font><br>\n",
    "$\\circ$ <font face='Avenir' size=3>2. What is the correlation between the desire to earn more and the possibility of a longer commute?</font><br>\n",
    "$\\circ$ <font face='Avenir' size=3>3. What key factor determines the tendency to move closer to work?</font><br>\n",
    "$\\bullet$ Rephrased: What's the most relevant factor influencing willingness to move closer to work?<br>\n"
   ]
  },
  {
   "cell_type": "markdown",
   "metadata": {},
   "source": [
    "<font size=2> Original wording</font><br>\n",
    "<font size=1>1. What is the distribution of the expected net income in relation to the current net income \n",
    "(charts + conclusions)?</font><br>\n",
    "<font size=1>2. What is the correlation between the desire to earn more and the possibility to commute longer \n",
    "(further away from home).</font><br>\n",
    "<font size=1>3. What is the key factor that determines the tendency to move closer to the work place \n",
    "(what is the most relevant factor influencing the will to move home closer work)?</font><br>"
   ]
  },
  {
   "cell_type": "markdown",
   "metadata": {},
   "source": [
    "<u>0. Data Prep and Imports</u>"
   ]
  },
  {
   "cell_type": "markdown",
   "metadata": {},
   "source": [
    "The given file was for Microsoft SQL Server, which isn't exaclty like SQLite3.  \n",
    "Some conversions to the DDL were done, and the _.sql_ was split into two:\n",
    "  - One text file to define the table\n",
    "  - One text file to populate the table\n",
    "\n",
    "SQLiteStudio 3.1.1 was used to test, and inspect structure.\n",
    "***\n"
   ]
  },
  {
   "cell_type": "markdown",
   "metadata": {},
   "source": [
    "Inserting Data INTO the Jobs table  \n",
    "Findings/Modifications\n",
    "1. remove N before all strings : `replace N' with '`\n",
    "2. add semi-colon after all insert statements : `replace \\n\\n with ;\\n\\n`    \n",
    "3. add INTO after the word INSERT : `replace INSERT with INSERT INTO`\n",
    "4. open files as read not read-binary : therefore, data is a string when passed to `.execute`\n",
    "5. remember to use `.commit()` on conneciton after cursor execution : otherwise nothing is written to the table\n",
    "5. Must split commands : use `.split('\\n')`\n"
   ]
  },
  {
   "cell_type": "code",
   "execution_count": 1,
   "metadata": {
    "collapsed": true
   },
   "outputs": [],
   "source": [
    "# imports 01\n",
    "import collections\n",
    "from matplotlib import pyplot as plt\n",
    "import pandas as pd\n",
    "%matplotlib inline"
   ]
  },
  {
   "cell_type": "code",
   "execution_count": 2,
   "metadata": {
    "collapsed": true
   },
   "outputs": [],
   "source": [
    "# imports 02\n",
    "from sklearn import preprocessing\n",
    "from sklearn.model_selection import train_test_split\n",
    "from sklearn.linear_model import LogisticRegression\n",
    "from sklearn.metrics import confusion_matrix\n",
    "from sklearn.decomposition import PCA\n",
    "\n",
    "from sklearn.metrics import classification_report\n",
    "\n",
    "from scipy.stats import spearmanr\n",
    "\n",
    "from itertools import combinations\n",
    "\n",
    "import numpy as np"
   ]
  },
  {
   "cell_type": "code",
   "execution_count": 3,
   "metadata": {
    "collapsed": true
   },
   "outputs": [],
   "source": [
    "# imports 03\n",
    "import seaborn as sns\n",
    "sns.set(style='ticks', color_codes=True)"
   ]
  },
  {
   "cell_type": "code",
   "execution_count": 4,
   "metadata": {
    "collapsed": true
   },
   "outputs": [],
   "source": [
    "# imports 04 - NOT USED\n",
    "# from rpy2.robjects import r\n",
    "# from rpy2.robjects.packages import importr"
   ]
  },
  {
   "cell_type": "code",
   "execution_count": 4,
   "metadata": {
    "collapsed": true
   },
   "outputs": [],
   "source": [
    "# prep 01 \"makedb02.py\"\n",
    "import sqlite3\n",
    "import os\n",
    "\n",
    "IMPORT_ROWS = False\n",
    "\n",
    "def make_table(dbname='survey.db',tablename='Jobs'):\n",
    "    ddltext = open(\"CREATE_only.txt\")\n",
    "    ddldata = ddltext.read()\n",
    "    ddltext.close()\n",
    "    ex_q = \"Select name From sqlite_master Where type='table'\"\n",
    "    con = sqlite3.connect(dbname)\n",
    "    cur = con.cursor()\n",
    "\n",
    "    # check table existence\n",
    "    cur.execute(ex_q)\n",
    "    all_tables = cur.fetchall()\n",
    "    \n",
    "    # check for empty list first, otherwise index error\n",
    "    if all_tables:\n",
    "        #print(all_tables)\n",
    "        #if tablename not in all_tables[0]:\n",
    "        if tablename not in [x[0] for x in all_tables]:\n",
    "            cur.execute(ddldata)\n",
    "    else:\n",
    "        cur.execute(ddldata)\n",
    "        \n",
    "    cur.close()\n",
    "    # We return the connection so that another cursor can be used\n",
    "        # if necessary.\n",
    "    con.commit()\n",
    "    return con\n",
    "\n",
    "def data_prep():\n",
    "    all_data_file = open(\"sql_data_only.txt\",'r')\n",
    "    all_data = all_data_file.read()\n",
    "    all_data_file.close()\n",
    "    single_commands_list = all_data.split('\\n')\n",
    "    return single_commands_list\n",
    "\n",
    "\n",
    "def populate_table(db_conn, command_list):\n",
    "    cur = db_conn.cursor()\n",
    "    for command in command_list:\n",
    "        # When we split on \\n, we also get empty strings for the\n",
    "            # lines between commands.\n",
    "        if command:\n",
    "            cur.execute(command)\n",
    "    cur.close()\n",
    "    db_conn.commit()\n",
    "\n",
    "\n",
    "# ------ Main ----- #\n",
    "con_to_db = make_table()\n",
    "\n",
    "commands = data_prep()\n",
    "\n",
    "if IMPORT_ROWS:\n",
    "    populate_table(con_to_db, commands)\n",
    "\n",
    "con_to_db.close()\n",
    "\n",
    "# results in 3692 rows in the Jobs database"
   ]
  },
  {
   "cell_type": "markdown",
   "metadata": {},
   "source": [
    "Jobs Table Columns, in order\n",
    "- The column names, order, and this list wil be used many times.\n",
    "- It's also a good reference for later on, when things are abbreviated"
   ]
  },
  {
   "cell_type": "code",
   "execution_count": 6,
   "metadata": {
    "collapsed": true
   },
   "outputs": [],
   "source": [
    "# prep 02\n",
    "\n",
    "tcol = [\"[id]\",\n",
    "\"[Are you looking for a job?]\",\n",
    "\"[Q13-C22 - Do you work currently? - Answer]\",\n",
    "\"[How far do you live from current or previous work - less than 5 km]\",\n",
    "\"[How far are you able to commute - less than 5 km]\",\n",
    "\"[How far do you live from current or previous work - 5 -10 km]\",\n",
    "\"[How far are you able to commute - less than 5 - 10 km]\",\n",
    "\"[How far do you live from current or previous work - 11 - 20 km]\",\n",
    "\"[How far are you able to commute - less than 11 - 20 km]\",\n",
    "\"[How far do you live from current or previous work - 21 - 50 km]\",\n",
    "\"[How far are you able to commute - less than 21 - 50 km]\",\n",
    "\"[How far do you live from current or previous work - 51 - 100 km]\",\n",
    "\"[How far are you able to commute - less than 51 - 100 km]\",\n",
    "\"[How far do you live from current or previous work - more than 100 km]\",\n",
    "\"[How far are you able to commute - more than 100 km]\",\n",
    "\"[What is your current or previous monthly net salary - up to 1000 EUR]\",\n",
    "\"[How much would you like to get monthly - up to 1000 EUR]\",\n",
    "\"[What is your current or previous monthly net salary - 1001 - 1500 EUR]\",\n",
    "\"[How much would you like to get monthly - 1001 - 1500 EUR]\",\n",
    "\"[What is your current or previous monthly net salary - 2001 - 3000 EUR]\",\n",
    "\"[How much would you like to get monthly - 2001 - 3000 EUR]\",\n",
    "\"[What is your current or previous monthly net salary - 3001 - 4000 EUR]\",\n",
    "\"[How much would you like to get monthly - 3001 - 4000 EUR]\",\n",
    "\"[What is your current or previous monthly net salary - 4001 - 5000 EUR]\",\n",
    "\"[How much would you like to get monthly - 4001 - 5000 EUR]\",\n",
    "\"[What is your current or previous monthly net salary - 5001 - 6000 EUR]\",\n",
    "\"[How much would you like to get monthly - 5001 - 6000 EUR]\",\n",
    "\"[What is your current or previous monthly net salary - more than 6000 EUR]\",\n",
    "\"[How much would you like to get monthly - more than 6000 EUR]\",\n",
    "\"[What is your current or previous monthly net salary - refuse to answer]\",\n",
    "\"[How much would you like to get monthly - refuse to answer]\",\n",
    "\"[Have you ever worked before?]\",\n",
    "\"[Are you keen on moving closer to your work place?]\",\n",
    "\"[D1# City size]\",\n",
    "\"[D2# Gender]\",\n",
    "\"[D3# Age]\",\n",
    "\"[D4# Education]\"]"
   ]
  },
  {
   "cell_type": "markdown",
   "metadata": {},
   "source": [
    "We're going to query to get the distinct values in every column.  \n",
    "It's important to see the range of values we're dealing with. This will also highlight potential issues, like `NULL`s."
   ]
  },
  {
   "cell_type": "code",
   "execution_count": 10,
   "metadata": {
    "collapsed": true
   },
   "outputs": [],
   "source": [
    "temp_connect = make_table()\n",
    "tcur = temp_connect.cursor()"
   ]
  },
  {
   "cell_type": "markdown",
   "metadata": {},
   "source": [
    "Quick \"dynamic\" query deisgn. We need to select columns individually, and group by the same column, for every column in the database."
   ]
  },
  {
   "cell_type": "code",
   "execution_count": 11,
   "metadata": {},
   "outputs": [
    {
     "name": "stdout",
     "output_type": "stream",
     "text": [
      "select [id], count(*) from Jobs Group by [id]\n"
     ]
    }
   ],
   "source": [
    "qbase = \"\"\"select {}, count(*) from Jobs Group by {}\"\"\"\n",
    "print(qbase.format(tcol[0],tcol[0]))"
   ]
  },
  {
   "cell_type": "markdown",
   "metadata": {},
   "source": [
    "We exectue for each column, then check that we have 1 result list for each column. Total columns = 37."
   ]
  },
  {
   "cell_type": "code",
   "execution_count": 30,
   "metadata": {},
   "outputs": [
    {
     "name": "stdout",
     "output_type": "stream",
     "text": [
      "[(None, 472), ('no', 2118), ('yes', 1102)]\n"
     ]
    },
    {
     "data": {
      "text/plain": [
       "37"
      ]
     },
     "execution_count": 30,
     "metadata": {},
     "output_type": "execute_result"
    }
   ],
   "source": [
    "reslst = []\n",
    "for col in tcol:\n",
    "    toexec = qbase.format(col,col)\n",
    "    tcur.execute(toexec)\n",
    "    reslst.append(tcur.fetchall())\n",
    "\n",
    "print(reslst[2])\n",
    "len(reslst)"
   ]
  },
  {
   "cell_type": "code",
   "execution_count": 31,
   "metadata": {},
   "outputs": [
    {
     "data": {
      "text/plain": [
       "{1}"
      ]
     },
     "execution_count": 31,
     "metadata": {},
     "output_type": "execute_result"
    }
   ],
   "source": [
    "# double-check that Jobs.ID is unique\n",
    "set([x[1] for x in reslst[0]])"
   ]
  },
  {
   "cell_type": "markdown",
   "metadata": {},
   "source": [
    "The id column is already unique (we check in the above cell), and not something we need to look at.  \n",
    "For each of the remaining columns, we'd like to see the distinct values, and their count.\n",
    "\n",
    "This result is extremely important for the rest fo the analysis. We return to this list of distinct values many times, as new queries/tables are designed to help with the analysis."
   ]
  },
  {
   "cell_type": "code",
   "execution_count": 32,
   "metadata": {},
   "outputs": [
    {
     "name": "stdout",
     "output_type": "stream",
     "text": [
      "[('no', 480), ('yes', 3212)]\n",
      "\n",
      "[(None, 472), ('no', 2118), ('yes', 1102)]\n",
      "\n",
      "[('', 2444), ('current job', 400), ('previous job', 848)]\n",
      "\n",
      "[('', 2450), ('sought-after job', 1242)]\n",
      "\n",
      "[('', 2953), ('current job', 251), ('previous job', 488)]\n",
      "\n",
      "[('', 2385), ('sought-after job', 1307)]\n",
      "\n",
      "[('', 3124), ('current job', 220), ('previous job', 348)]\n",
      "\n",
      "[('', 2700), ('sought-after job', 992)]\n",
      "\n",
      "[('', 3321), ('current job', 153), ('previous job', 218)]\n",
      "\n",
      "[('', 3203), ('sought-after job', 489)]\n",
      "\n",
      "[('', 3601), ('current job', 51), ('previous job', 40)]\n",
      "\n",
      "[('', 3604), ('sought-after job', 88)]\n",
      "\n",
      "[('', 3580), ('current job', 34), ('previous job', 78)]\n",
      "\n",
      "[('', 3598), ('sought-after job', 94)]\n",
      "\n",
      "[('', 2504), ('current job', 397), ('previous job', 791)]\n",
      "\n",
      "[('', 3363), ('sought-after job', 329)]\n",
      "\n",
      "[('', 2891), ('current job', 307), ('previous job', 494)]\n",
      "\n",
      "[('', 2568), ('sought-after job', 1124)]\n",
      "\n",
      "[('', 3165), ('current job', 220), ('previous job', 307)]\n",
      "\n",
      "[('', 2330), ('sought-after job', 1362)]\n",
      "\n",
      "[('', 3512), ('current job', 54), ('previous job', 126)]\n",
      "\n",
      "[('', 3056), ('sought-after job', 636)]\n",
      "\n",
      "[('', 3606), ('current job', 29), ('previous job', 57)]\n",
      "\n",
      "[('', 3382), ('sought-after job', 310)]\n",
      "\n",
      "[('', 3641), ('current job', 15), ('previous job', 36)]\n",
      "\n",
      "[('', 3454), ('sought-after job', 238)]\n",
      "\n",
      "[('', 3678), ('current job', 4), ('previous job', 10)]\n",
      "\n",
      "[('', 3568), ('sought-after job', 124)]\n",
      "\n",
      "[('', 3420), ('current job', 93), ('previous job', 179)]\n",
      "\n",
      "[('', 3497), ('sought-after job', 195)]\n",
      "\n",
      "[(None, 1573), ('no', 147), ('yes', 1972)]\n",
      "\n",
      "[(None, 480), ('no', 2280), ('yes', 932)]\n",
      "\n",
      "[('100k - 199k inhabitants', 406), ('200k - 500k inhabitants', 494), ('20k - 49k inhabitants', 482), ('50k - 99k inhabitants', 398), ('city up to 20k inhabitants', 469), ('more than 500k inhabitants', 574), ('village', 869)]\n",
      "\n",
      "[('female', 1832), ('male', 1860)]\n",
      "\n",
      "[('18 - 24 years', 1186), ('25 - 30 years', 759), ('31 - 40 years', 736), ('41 - 50 years', 533), ('less than 18 years', 41), ('more than 50 years', 437)]\n",
      "\n",
      "[('basic', 196), ('higher', 1026), ('secondary', 1866), ('vocational', 604)]\n",
      "\n"
     ]
    }
   ],
   "source": [
    "for rez in reslst[1:]:\n",
    "    print(rez)\n",
    "    print()"
   ]
  },
  {
   "cell_type": "markdown",
   "metadata": {
    "collapsed": true
   },
   "source": [
    "- Initial thoughts: Normally, it would be better to combine the data in the similar columns within SQL, rather than loading the entire table into memory. However, the table is small enough, and the Python code to help normalize the data is simple to write.\n",
    "\n",
    "- Later: It was quite manual, but overall more useful to restructure the data in SQL, and in fact, make a few new tables.\n",
    "\n",
    "- Just below: Via Python, trying to understand what can be combined and how."
   ]
  },
  {
   "cell_type": "code",
   "execution_count": 34,
   "metadata": {},
   "outputs": [
    {
     "data": {
      "text/plain": [
       "3692"
      ]
     },
     "execution_count": 34,
     "metadata": {},
     "output_type": "execute_result"
    }
   ],
   "source": [
    "# read the full Jobs table into memory\n",
    "full_table_q = \"select * from jobs\"\n",
    "tcur.execute(full_table_q)\n",
    "full_table_data = tcur.fetchall()\n",
    "len(full_table_data)"
   ]
  },
  {
   "cell_type": "markdown",
   "metadata": {},
   "source": [
    "Each item in the list `full_table_data` is a tuple, containing the value for the record-column combination in the database. We can now combine similar column data."
   ]
  },
  {
   "cell_type": "code",
   "execution_count": 35,
   "metadata": {},
   "outputs": [
    {
     "data": {
      "text/plain": [
       "['[id]',\n",
       " '[Are you looking for a job?]',\n",
       " '[Q13-C22 - Do you work currently? - Answer]',\n",
       " '[How far do you live from current or previous work - less than 5 km]',\n",
       " '[How far are you able to commute - less than 5 km]',\n",
       " '[How far do you live from current or previous work - 5 -10 km]',\n",
       " '[How far are you able to commute - less than 5 - 10 km]',\n",
       " '[How far do you live from current or previous work - 11 - 20 km]',\n",
       " '[How far are you able to commute - less than 11 - 20 km]',\n",
       " '[How far do you live from current or previous work - 21 - 50 km]',\n",
       " '[How far are you able to commute - less than 21 - 50 km]',\n",
       " '[How far do you live from current or previous work - 51 - 100 km]',\n",
       " '[How far are you able to commute - less than 51 - 100 km]',\n",
       " '[How far do you live from current or previous work - more than 100 km]',\n",
       " '[How far are you able to commute - more than 100 km]',\n",
       " '[What is your current or previous monthly net salary - up to 1000 EUR]',\n",
       " '[How much would you like to get monthly - up to 1000 EUR]',\n",
       " '[What is your current or previous monthly net salary - 1001 - 1500 EUR]',\n",
       " '[How much would you like to get monthly - 1001 - 1500 EUR]',\n",
       " '[What is your current or previous monthly net salary - 2001 - 3000 EUR]',\n",
       " '[How much would you like to get monthly - 2001 - 3000 EUR]',\n",
       " '[What is your current or previous monthly net salary - 3001 - 4000 EUR]',\n",
       " '[How much would you like to get monthly - 3001 - 4000 EUR]',\n",
       " '[What is your current or previous monthly net salary - 4001 - 5000 EUR]',\n",
       " '[How much would you like to get monthly - 4001 - 5000 EUR]',\n",
       " '[What is your current or previous monthly net salary - 5001 - 6000 EUR]',\n",
       " '[How much would you like to get monthly - 5001 - 6000 EUR]',\n",
       " '[What is your current or previous monthly net salary - more than 6000 EUR]',\n",
       " '[How much would you like to get monthly - more than 6000 EUR]',\n",
       " '[What is your current or previous monthly net salary - refuse to answer]',\n",
       " '[How much would you like to get monthly - refuse to answer]',\n",
       " '[Have you ever worked before?]',\n",
       " '[Are you keen on moving closer to your work place?]',\n",
       " '[D1# City size]',\n",
       " '[D2# Gender]',\n",
       " '[D3# Age]',\n",
       " '[D4# Education]']"
      ]
     },
     "execution_count": 35,
     "metadata": {},
     "output_type": "execute_result"
    }
   ],
   "source": [
    "# For reference, our list of every column, in order\n",
    "tcol"
   ]
  },
  {
   "cell_type": "markdown",
   "metadata": {},
   "source": [
    "Upon examining the questions behind each column, we can see that some level of normalization (in the SQL sense) is possible. We find groups of columns below, and start to check for noise."
   ]
  },
  {
   "cell_type": "code",
   "execution_count": 36,
   "metadata": {},
   "outputs": [
    {
     "data": {
      "text/plain": [
       "['[How far do you live from current or previous work - less than 5 km]',\n",
       " '[How far do you live from current or previous work - 5 -10 km]',\n",
       " '[How far do you live from current or previous work - 11 - 20 km]',\n",
       " '[How far do you live from current or previous work - 21 - 50 km]',\n",
       " '[How far do you live from current or previous work - 51 - 100 km]',\n",
       " '[How far do you live from current or previous work - more than 100 km]']"
      ]
     },
     "execution_count": 36,
     "metadata": {},
     "output_type": "execute_result"
    }
   ],
   "source": [
    "# Column Groups\n",
    "living_distance = tcol[3:14:2]\n",
    "living_distance"
   ]
  },
  {
   "cell_type": "code",
   "execution_count": 37,
   "metadata": {},
   "outputs": [
    {
     "data": {
      "text/plain": [
       "['[How far are you able to commute - less than 5 km]',\n",
       " '[How far are you able to commute - less than 5 - 10 km]',\n",
       " '[How far are you able to commute - less than 11 - 20 km]',\n",
       " '[How far are you able to commute - less than 21 - 50 km]',\n",
       " '[How far are you able to commute - less than 51 - 100 km]',\n",
       " '[How far are you able to commute - more than 100 km]']"
      ]
     },
     "execution_count": 37,
     "metadata": {},
     "output_type": "execute_result"
    }
   ],
   "source": [
    "mx_commute = tcol[4:15:2]\n",
    "mx_commute"
   ]
  },
  {
   "cell_type": "code",
   "execution_count": 38,
   "metadata": {},
   "outputs": [
    {
     "data": {
      "text/plain": [
       "['[What is your current or previous monthly net salary - up to 1000 EUR]',\n",
       " '[What is your current or previous monthly net salary - 1001 - 1500 EUR]',\n",
       " '[What is your current or previous monthly net salary - 2001 - 3000 EUR]',\n",
       " '[What is your current or previous monthly net salary - 3001 - 4000 EUR]',\n",
       " '[What is your current or previous monthly net salary - 4001 - 5000 EUR]',\n",
       " '[What is your current or previous monthly net salary - 5001 - 6000 EUR]',\n",
       " '[What is your current or previous monthly net salary - more than 6000 EUR]',\n",
       " '[What is your current or previous monthly net salary - refuse to answer]']"
      ]
     },
     "execution_count": 38,
     "metadata": {},
     "output_type": "execute_result"
    }
   ],
   "source": [
    "work_earnings = tcol[15:30:2]\n",
    "work_earnings"
   ]
  },
  {
   "cell_type": "code",
   "execution_count": 39,
   "metadata": {},
   "outputs": [
    {
     "data": {
      "text/plain": [
       "['[How much would you like to get monthly - up to 1000 EUR]',\n",
       " '[How much would you like to get monthly - 1001 - 1500 EUR]',\n",
       " '[How much would you like to get monthly - 2001 - 3000 EUR]',\n",
       " '[How much would you like to get monthly - 3001 - 4000 EUR]',\n",
       " '[How much would you like to get monthly - 4001 - 5000 EUR]',\n",
       " '[How much would you like to get monthly - 5001 - 6000 EUR]',\n",
       " '[How much would you like to get monthly - more than 6000 EUR]',\n",
       " '[How much would you like to get monthly - refuse to answer]']"
      ]
     },
     "execution_count": 39,
     "metadata": {},
     "output_type": "execute_result"
    }
   ],
   "source": [
    "salary_pref = tcol[16:31:2]\n",
    "salary_pref"
   ]
  },
  {
   "cell_type": "markdown",
   "metadata": {},
   "source": [
    "- Our list of all possible columns to group/normalize"
   ]
  },
  {
   "cell_type": "code",
   "execution_count": 40,
   "metadata": {},
   "outputs": [
    {
     "name": "stdout",
     "output_type": "stream",
     "text": [
      "28\n"
     ]
    },
    {
     "data": {
      "text/plain": [
       "['[How much would you like to get monthly - up to 1000 EUR]',\n",
       " '[How much would you like to get monthly - 1001 - 1500 EUR]',\n",
       " '[How much would you like to get monthly - 2001 - 3000 EUR]',\n",
       " '[How much would you like to get monthly - 3001 - 4000 EUR]',\n",
       " '[How much would you like to get monthly - 4001 - 5000 EUR]',\n",
       " '[How much would you like to get monthly - 5001 - 6000 EUR]',\n",
       " '[How much would you like to get monthly - more than 6000 EUR]',\n",
       " '[How much would you like to get monthly - refuse to answer]',\n",
       " '[What is your current or previous monthly net salary - up to 1000 EUR]',\n",
       " '[What is your current or previous monthly net salary - 1001 - 1500 EUR]',\n",
       " '[What is your current or previous monthly net salary - 2001 - 3000 EUR]',\n",
       " '[What is your current or previous monthly net salary - 3001 - 4000 EUR]',\n",
       " '[What is your current or previous monthly net salary - 4001 - 5000 EUR]',\n",
       " '[What is your current or previous monthly net salary - 5001 - 6000 EUR]',\n",
       " '[What is your current or previous monthly net salary - more than 6000 EUR]',\n",
       " '[What is your current or previous monthly net salary - refuse to answer]',\n",
       " '[How far are you able to commute - less than 5 km]',\n",
       " '[How far are you able to commute - less than 5 - 10 km]',\n",
       " '[How far are you able to commute - less than 11 - 20 km]',\n",
       " '[How far are you able to commute - less than 21 - 50 km]',\n",
       " '[How far are you able to commute - less than 51 - 100 km]',\n",
       " '[How far are you able to commute - more than 100 km]',\n",
       " '[How far do you live from current or previous work - less than 5 km]',\n",
       " '[How far do you live from current or previous work - 5 -10 km]',\n",
       " '[How far do you live from current or previous work - 11 - 20 km]',\n",
       " '[How far do you live from current or previous work - 21 - 50 km]',\n",
       " '[How far do you live from current or previous work - 51 - 100 km]',\n",
       " '[How far do you live from current or previous work - more than 100 km]']"
      ]
     },
     "execution_count": 40,
     "metadata": {},
     "output_type": "execute_result"
    }
   ],
   "source": [
    "grouped_columns = list(salary_pref + work_earnings + mx_commute + living_distance)\n",
    "print(len(grouped_columns))\n",
    "grouped_columns"
   ]
  },
  {
   "cell_type": "markdown",
   "metadata": {},
   "source": [
    "- Columns that we don't need to normalize"
   ]
  },
  {
   "cell_type": "code",
   "execution_count": 41,
   "metadata": {},
   "outputs": [
    {
     "name": "stdout",
     "output_type": "stream",
     "text": [
      "9\n"
     ]
    },
    {
     "data": {
      "text/plain": [
       "['[id]',\n",
       " '[Are you looking for a job?]',\n",
       " '[Q13-C22 - Do you work currently? - Answer]',\n",
       " '[Have you ever worked before?]',\n",
       " '[Are you keen on moving closer to your work place?]',\n",
       " '[D1# City size]',\n",
       " '[D2# Gender]',\n",
       " '[D3# Age]',\n",
       " '[D4# Education]']"
      ]
     },
     "execution_count": 41,
     "metadata": {},
     "output_type": "execute_result"
    }
   ],
   "source": [
    "unique_columns = [col for col in tcol if col not in grouped_columns]\n",
    "print(len(unique_columns))\n",
    "unique_columns"
   ]
  },
  {
   "cell_type": "markdown",
   "metadata": {
    "collapsed": true
   },
   "source": [
    "- We now combine data in similar columns."
   ]
  },
  {
   "cell_type": "code",
   "execution_count": 42,
   "metadata": {},
   "outputs": [
    {
     "name": "stdout",
     "output_type": "stream",
     "text": [
      "[3, 5, 7, 9, 11, 13]\n",
      "[4, 6, 8, 10, 12, 14]\n",
      "[15, 17, 19, 21, 23, 25, 27, 29]\n",
      "[16, 18, 20, 22, 24, 26, 28, 30]\n"
     ]
    }
   ],
   "source": [
    "# contruct index sets\n",
    "idx_living = [tcol.index(x) for x in living_distance]\n",
    "idx_commute = [tcol.index(x) for x in mx_commute]\n",
    "idx_cur_salary = [tcol.index(x) for x in work_earnings]\n",
    "idx_exp_pay = [tcol.index(x) for x in salary_pref]\n",
    "print(idx_living,idx_commute,idx_cur_salary,idx_exp_pay,sep='\\n')"
   ]
  },
  {
   "cell_type": "code",
   "execution_count": 46,
   "metadata": {
    "collapsed": true
   },
   "outputs": [],
   "source": [
    "# living distance normalization\n",
    "ncn_01 = \"[How far do you live from current or previous work]\"\n",
    "#print(ncn_01)\n",
    "concat_living_rows = []\n",
    "\n",
    "for a_row in full_table_data:\n",
    "    #for i in range(len(a_row)):\n",
    "    #    print(i,'\\t',i in idx_living,sep=',')\n",
    "    pasted = [a_row[i] for i in range(len(a_row)) if i in idx_living]\n",
    "    concat_living_rows.append(pasted)"
   ]
  },
  {
   "cell_type": "code",
   "execution_count": 47,
   "metadata": {},
   "outputs": [
    {
     "name": "stdout",
     "output_type": "stream",
     "text": [
      "3692\n"
     ]
    },
    {
     "data": {
      "text/plain": [
       "[['', '', '', '', '', ''],\n",
       " ['', '', '', '', '', ''],\n",
       " ['', 'current job', '', '', '', ''],\n",
       " ['', '', '', '', '', ''],\n",
       " ['', 'previous job', '', '', '', ''],\n",
       " ['', '', '', '', '', ''],\n",
       " ['', '', '', '', '', ''],\n",
       " ['previous job', '', '', '', '', ''],\n",
       " ['previous job', '', '', '', '', ''],\n",
       " ['previous job', '', '', '', '', '']]"
      ]
     },
     "execution_count": 47,
     "metadata": {},
     "output_type": "execute_result"
    }
   ],
   "source": [
    "print(len(concat_living_rows))\n",
    "concat_living_rows[:10]"
   ]
  },
  {
   "cell_type": "markdown",
   "metadata": {},
   "source": [
    "#### <u>Noise - multiple answers to one question</u>\n",
    "  \n",
    "One way to have noise in the data would be to have more than one answer in a set of columns that should be mutually exclusive. We identified four of these sets in our original `Jobs` table. Now we check for noise in one of thouse groups."
   ]
  },
  {
   "cell_type": "code",
   "execution_count": 48,
   "metadata": {
    "collapsed": true
   },
   "outputs": [],
   "source": [
    "# Check for noise in the responses for \"How far do you live...\"\n",
    "compress_living_rows = [[resp for resp in row if resp] for row in concat_living_rows ]"
   ]
  },
  {
   "cell_type": "code",
   "execution_count": 49,
   "metadata": {},
   "outputs": [
    {
     "data": {
      "text/plain": [
       "3692"
      ]
     },
     "execution_count": 49,
     "metadata": {},
     "output_type": "execute_result"
    }
   ],
   "source": [
    "len(compress_living_rows)"
   ]
  },
  {
   "cell_type": "code",
   "execution_count": 50,
   "metadata": {},
   "outputs": [
    {
     "data": {
      "text/plain": [
       "[]"
      ]
     },
     "execution_count": 50,
     "metadata": {},
     "output_type": "execute_result"
    }
   ],
   "source": [
    "compress_living_rows[0]"
   ]
  },
  {
   "cell_type": "markdown",
   "metadata": {},
   "source": [
    "- Values in chkdup should either be 0 or 1\n",
    "- zero means they didn't answer\n",
    "- one means they answered in only one category\n",
    "- anything else means that have competing answers in exclusive categories"
   ]
  },
  {
   "cell_type": "code",
   "execution_count": 51,
   "metadata": {},
   "outputs": [
    {
     "name": "stdout",
     "output_type": "stream",
     "text": [
      "Max count:  6\n",
      "Index of Max count :  1681\n"
     ]
    },
    {
     "data": {
      "text/plain": [
       "['current job',\n",
       " 'current job',\n",
       " 'current job',\n",
       " 'current job',\n",
       " 'current job',\n",
       " 'current job']"
      ]
     },
     "execution_count": 51,
     "metadata": {},
     "output_type": "execute_result"
    }
   ],
   "source": [
    "# Values in chkdup should either be 0 or 1\n",
    "# zero means they didn't answer\n",
    "# one means they answered in only one category\n",
    "# anything else means that have competing answers in exclusive categories\n",
    "chkdup = [len(row) for row in compress_living_rows]\n",
    "print('Max count: ',max(chkdup))\n",
    "print('Index of Max count : ', chkdup.index(max(chkdup)))\n",
    "compress_living_rows[1681]"
   ]
  },
  {
   "cell_type": "markdown",
   "metadata": {},
   "source": [
    "$\\Uparrow$ Here we see an extreme example.  \n",
    "This person indicated affirmatively for every category regarding how far they live from work. That's as issue."
   ]
  },
  {
   "cell_type": "code",
   "execution_count": 29,
   "metadata": {},
   "outputs": [
    {
     "data": {
      "text/plain": [
       "{0, 1, 2, 3, 4, 6}"
      ]
     },
     "execution_count": 29,
     "metadata": {},
     "output_type": "execute_result"
    }
   ],
   "source": [
    "set(chkdup)"
   ]
  },
  {
   "cell_type": "markdown",
   "metadata": {},
   "source": [
    "$\\uparrow$ We can see from the `set`, that having more than 1 answer can mean having 2, 3, 4 or 6 answers.  \n",
    "Six answers would mean someone indicating interest in all categories.  \n",
    "To check how prevalent this noise is, we can count how many occurences of each number of answers, ther are.  \n",
    "This can be done manually by writing a loop for a dicitonary, or with Python's `collections` module."
   ]
  },
  {
   "cell_type": "code",
   "execution_count": 52,
   "metadata": {},
   "outputs": [
    {
     "name": "stdout",
     "output_type": "stream",
     "text": [
      "occurences 3692\n"
     ]
    },
    {
     "data": {
      "text/plain": [
       "Counter({0: 680, 1: 2927, 2: 68, 3: 10, 4: 3, 6: 4})"
      ]
     },
     "execution_count": 52,
     "metadata": {},
     "output_type": "execute_result"
    }
   ],
   "source": [
    "chkdup_dict = collections.Counter(chkdup)\n",
    "print('occurences',sum(chkdup_dict.values()))\n",
    "chkdup_dict"
   ]
  },
  {
   "cell_type": "code",
   "execution_count": 54,
   "metadata": {},
   "outputs": [
    {
     "name": "stdout",
     "output_type": "stream",
     "text": [
      "85\n"
     ]
    },
    {
     "data": {
      "text/plain": [
       "0.023022751895991334"
      ]
     },
     "execution_count": 54,
     "metadata": {},
     "output_type": "execute_result"
    }
   ],
   "source": [
    "liv_dist_flaw_count = sum({key:chkdup_dict[key] for key in chkdup_dict if key > 1}.values())\n",
    "print(liv_dist_flaw_count)\n",
    "liv_dist_noise_lvl = liv_dist_flaw_count/sum(chkdup_dict.values())\n",
    "liv_dist_noise_lvl"
   ]
  },
  {
   "cell_type": "markdown",
   "metadata": {},
   "source": [
    "Below is an example of a bad record, where the surveyed individual over-marked repsonses about how far they live form work. This is the full detail on the record identified above, from the user with `Jobs.ID` `2793`.\n",
    "(It also has issues with their preferred distance)."
   ]
  },
  {
   "cell_type": "code",
   "execution_count": 32,
   "metadata": {},
   "outputs": [
    {
     "data": {
      "text/plain": [
       "(2793.0,\n",
       " 'yes',\n",
       " 'yes',\n",
       " 'current job',\n",
       " 'sought-after job',\n",
       " 'current job',\n",
       " 'sought-after job',\n",
       " 'current job',\n",
       " 'sought-after job',\n",
       " 'current job',\n",
       " 'sought-after job',\n",
       " 'current job',\n",
       " 'sought-after job',\n",
       " 'current job',\n",
       " 'sought-after job',\n",
       " '',\n",
       " '',\n",
       " '',\n",
       " '',\n",
       " '',\n",
       " '',\n",
       " '',\n",
       " '',\n",
       " '',\n",
       " '',\n",
       " 'current job',\n",
       " '',\n",
       " '',\n",
       " 'sought-after job',\n",
       " '',\n",
       " '',\n",
       " None,\n",
       " 'yes',\n",
       " 'more than 500k inhabitants',\n",
       " 'male',\n",
       " '31 - 40 years',\n",
       " 'secondary')"
      ]
     },
     "execution_count": 32,
     "metadata": {},
     "output_type": "execute_result"
    }
   ],
   "source": [
    "full_table_data[1681]"
   ]
  },
  {
   "cell_type": "markdown",
   "metadata": {},
   "source": [
    "Based on the calculation above, around 2.3% of our responses about current/previous proximity to work are flawed.  \n",
    "It would not be so bad to remove these record from consideraiton. However, we need to also look for noise in the other grouped questions, to find a upper-level to the flaws (via simple sum). If this upper-level exceeded, for exmaple, 10%, then it would make sense to find a way to modify the data, rather than dropping 10% of our records due to errors in how they were recorded."
   ]
  },
  {
   "cell_type": "markdown",
   "metadata": {
    "collapsed": true
   },
   "source": [
    "We can now handle the other grouped columns in a similar way."
   ]
  },
  {
   "cell_type": "code",
   "execution_count": 55,
   "metadata": {
    "collapsed": true
   },
   "outputs": [],
   "source": [
    "# 1. We already have the index sets\n",
    "# 2. Append similar data into one list in the same column. save that columns of multi-answer lists\n",
    "# 3. Compress the multi-answer list by removing any empty strings\n",
    "# -. Each multi-answer row should contain a one-item list. (Check to be sure)\n",
    "# 4. Collect the count of rows where the multi-answer list (with empty removed) still contains more than one element\n",
    "# 5. Calculate the noise-level\n",
    "# 6. Find the IDs for all records that have flaws\n",
    "# 7. Use a data smoothing function to modify flawed rows\n",
    "# -. Modification logic will be \"most lenient preference\"/\"highest indicator\""
   ]
  },
  {
   "cell_type": "code",
   "execution_count": 6,
   "metadata": {
    "collapsed": true
   },
   "outputs": [],
   "source": [
    "def append_similar_columns(grouped_columns, full_set):\n",
    "    output = []\n",
    "    for a_row in full_set:\n",
    "        pasted = [a_row[i] for i in range(len(a_row)) if i in grouped_columns]\n",
    "        output.append(pasted)\n",
    "    return output\n",
    "\n",
    "def compress_similar_columns(appended_columns):\n",
    "    return [[resp for resp in row if resp] for row in appended_columns ]\n",
    "\n",
    "def dup_report(compressed_columns):\n",
    "    check_duplicates = [len(row) for row in compressed_columns]\n",
    "    \n",
    "    report_dict = collections.Counter(check_duplicates)\n",
    "    \n",
    "    flaw_count = sum({key:report_dict[key] for key in report_dict if key > 1}.values())\n",
    "\n",
    "    noise_lvl = flaw_count/sum(report_dict.values())    \n",
    "    \n",
    "    return report_dict, noise_lvl\n",
    "    \n",
    "def dup_collect(compressed_columns, full_dataset):\n",
    "    \"\"\"For every row (a list) in our compress columns list, check the length of the row.\n",
    "    If this length exceeds 1, then return the corresponding full record, from the database.\n",
    "    \n",
    "    This could be done usinzg zip(), but instead we iterated on the indexes instead of the values.\n",
    "    \"\"\"\n",
    "    full_flawed_records = []\n",
    "    for row_idx in range(len(compressed_columns)):\n",
    "        curr_record = compressed_columns[row_idx]\n",
    "        if len(curr_record) > 1:\n",
    "            full_flawed_records.append(full_dataset[row_idx])\n",
    "    return full_flawed_records"
   ]
  },
  {
   "cell_type": "markdown",
   "metadata": {},
   "source": [
    "$\\downarrow$ redo: Step-by-step multi-answer detection for __\"How far do you live from current or previous work?\"__"
   ]
  },
  {
   "cell_type": "code",
   "execution_count": 62,
   "metadata": {},
   "outputs": [
    {
     "data": {
      "text/plain": [
       "[['', '', '', '', '', ''],\n",
       " ['', '', '', '', '', ''],\n",
       " ['', 'current job', '', '', '', ''],\n",
       " ['', '', '', '', '', ''],\n",
       " ['', 'previous job', '', '', '', ''],\n",
       " ['', '', '', '', '', ''],\n",
       " ['', '', '', '', '', ''],\n",
       " ['previous job', '', '', '', '', ''],\n",
       " ['previous job', '', '', '', '', ''],\n",
       " ['previous job', '', '', '', '', '']]"
      ]
     },
     "execution_count": 62,
     "metadata": {},
     "output_type": "execute_result"
    }
   ],
   "source": [
    "# Putting answers about current previous living distance into one \"column\"\n",
    "a01 = append_similar_columns(idx_living, full_table_data)\n",
    "a01[:10]"
   ]
  },
  {
   "cell_type": "code",
   "execution_count": 63,
   "metadata": {},
   "outputs": [
    {
     "data": {
      "text/plain": [
       "[['previous job'],\n",
       " [],\n",
       " ['previous job', 'previous job'],\n",
       " [],\n",
       " ['previous job'],\n",
       " [],\n",
       " ['previous job'],\n",
       " ['previous job'],\n",
       " [],\n",
       " ['current job']]"
      ]
     },
     "execution_count": 63,
     "metadata": {},
     "output_type": "execute_result"
    }
   ],
   "source": [
    "# \"compression\" means, removing null values\n",
    "c01 = compress_similar_columns(append_similar_columns(idx_living,full_table_data))\n",
    "c01[1090:1100]"
   ]
  },
  {
   "cell_type": "code",
   "execution_count": 64,
   "metadata": {},
   "outputs": [
    {
     "data": {
      "text/plain": [
       "(Counter({0: 680, 1: 2927, 2: 68, 3: 10, 4: 3, 6: 4}), 0.023022751895991334)"
      ]
     },
     "execution_count": 64,
     "metadata": {},
     "output_type": "execute_result"
    }
   ],
   "source": [
    "# Seeing the count of each number of answers, and the noise rate\n",
    "d01 = dup_report(c01)\n",
    "d01"
   ]
  },
  {
   "cell_type": "markdown",
   "metadata": {},
   "source": [
    "$\\uparrow$ How to read: \n",
    "- The categories \"5-10 km\", \"11-20km\" etc. \n",
    "- 0,1,2,3,4,6 _the keys of the dictionary_, are how many categories an idividual selected. \n",
    "- 680, 2927, 68, etc _the values of the dictionary_, are how many individuals selected that multiple of categories."
   ]
  },
  {
   "cell_type": "code",
   "execution_count": 65,
   "metadata": {},
   "outputs": [
    {
     "data": {
      "text/plain": [
       "85"
      ]
     },
     "execution_count": 65,
     "metadata": {},
     "output_type": "execute_result"
    }
   ],
   "source": [
    "# number of \"noisy\" answers\n",
    "e01 = dup_collect(c01,full_table_data)\n",
    "len(e01)"
   ]
  },
  {
   "cell_type": "markdown",
   "metadata": {},
   "source": [
    "- Error detection for __\"How far are you able to commute?\"__"
   ]
  },
  {
   "cell_type": "code",
   "execution_count": 69,
   "metadata": {},
   "outputs": [
    {
     "name": "stdout",
     "output_type": "stream",
     "text": [
      "751\n"
     ]
    },
    {
     "data": {
      "text/plain": [
       "(Counter({0: 789, 1: 2152, 2: 382, 3: 226, 4: 113, 5: 14, 6: 16}),\n",
       " 0.2034127843986999)"
      ]
     },
     "execution_count": 69,
     "metadata": {},
     "output_type": "execute_result"
    }
   ],
   "source": [
    "a02 = append_similar_columns(idx_commute,full_table_data)\n",
    "c02 = compress_similar_columns(a02)\n",
    "d02 = dup_report(c02)\n",
    "e02 = dup_collect(c02,full_table_data)\n",
    "print(len(e02))\n",
    "d02"
   ]
  },
  {
   "cell_type": "markdown",
   "metadata": {},
   "source": [
    "- Error detection for __\"What is your current or previous monthly net salary?\"__"
   ]
  },
  {
   "cell_type": "code",
   "execution_count": 67,
   "metadata": {},
   "outputs": [
    {
     "name": "stdout",
     "output_type": "stream",
     "text": [
      "79\n"
     ]
    },
    {
     "data": {
      "text/plain": [
       "(Counter({0: 682, 1: 2931, 2: 59, 3: 16, 4: 2, 6: 1, 8: 1}),\n",
       " 0.021397616468039005)"
      ]
     },
     "execution_count": 67,
     "metadata": {},
     "output_type": "execute_result"
    }
   ],
   "source": [
    "a03 = append_similar_columns(idx_cur_salary,full_table_data)\n",
    "c03 = compress_similar_columns(a03)\n",
    "d03 = dup_report(c03)\n",
    "e03 = dup_collect(c03,full_table_data)\n",
    "print(len(e03))\n",
    "d03"
   ]
  },
  {
   "cell_type": "markdown",
   "metadata": {},
   "source": [
    "- Error detection for __\"How much would you like to get monthly?\"__"
   ]
  },
  {
   "cell_type": "code",
   "execution_count": 68,
   "metadata": {},
   "outputs": [
    {
     "name": "stdout",
     "output_type": "stream",
     "text": [
      "742\n"
     ]
    },
    {
     "data": {
      "text/plain": [
       "(Counter({0: 755, 1: 2195, 2: 462, 3: 123, 4: 52, 5: 41, 6: 34, 7: 27, 8: 3}),\n",
       " 0.2009750812567714)"
      ]
     },
     "execution_count": 68,
     "metadata": {},
     "output_type": "execute_result"
    }
   ],
   "source": [
    "a04 = append_similar_columns(idx_exp_pay,full_table_data)\n",
    "c04 = compress_similar_columns(a04)\n",
    "d04 = dup_report(c04)\n",
    "e04 = dup_collect(c04,full_table_data)\n",
    "print(len(e04))\n",
    "d04"
   ]
  },
  {
   "cell_type": "markdown",
   "metadata": {},
   "source": [
    "#### Certain categories have a high ratio of respondents indicating more than one classification.\n",
    "Therefore, omitting the data would be quite limiting to our analysis.  \n",
    "Instead, we will use some simple rules to _smooth_ out our results."
   ]
  },
  {
   "cell_type": "markdown",
   "metadata": {},
   "source": [
    "#### Data Smoothing - Part 1"
   ]
  },
  {
   "cell_type": "markdown",
   "metadata": {},
   "source": [
    "Note:\n",
    "\n",
    "The following questions have a bit of a flaw:\n",
    "\n",
    "> `'[How far are you able to commute - less than 5 - 10 km]'`  \n",
    "> `'[How far are you able to commute - less than 11 - 20 km]'`  \n",
    "> `'[How far are you able to commute - less than 21 - 50 km]'`  \n",
    "> `'[How far are you able to commute - less than 51 - 100 km]'`\n",
    "\n",
    "A person cannot prefer to commute both less than X and less than X+n km. Becuase X+n is greater than X.\n",
    "Therefore, these questions are interpreted as \"between X and X+n km\"."
   ]
  },
  {
   "cell_type": "markdown",
   "metadata": {},
   "source": [
    "__For data smoothing__, we will <font face='Avenir'><u><b>take the maximum indicated preference</b></u></font> as the response, in cases where more than one response was given in our grouped questions.\n",
    "\n",
    "\n",
    "|<font size='4'>Grouping</font>|<font size='4'> Range</font>\n",
    "|---|\n",
    "|<font size='3'>How far do you live from current or previous work</font>|<font size='3'> 0 to 100+</font>\n",
    "|<font size='3'>How far are you able to commute</font>|<font size='3'> 0 to 100+</font>\n",
    "|<font size='3'>What is your current or previous monthly net salary</font>|<font size='3'> 0 to 6000+, no answer</font>\n",
    "|<font size='3'>How much would you like to get monthly</font>|<font size='3'> 0 to 6000+, no answer</font>\n",
    "\n",
    "- In each grouping, there are bins for the range. If someone has responded for more than one bin, we can select the lower or higher one.  \n",
    "- In the case the bins are consecutive, e.g. \"up to 1000 EUR\", \"1001-1500 EUR\", it can make more sense to assume the higher amount.  \n",
    "- In the case the bins are not consecutive, again, it is a decent assumption to use the higher bin.  \n",
    "\n",
    "There are other ways to handle this (e.g. for non-consevutive bins, consider the lower one, or average them). However, as stated above, we will <font face='Avenir'><u><b>take the maximum indicated preference</b></u></font> as the smoothed version of the repsonse."
   ]
  },
  {
   "cell_type": "markdown",
   "metadata": {},
   "source": [
    "In checking the data, we see that the `\"Do you work currently?\"` question perfectly controls whether or not repsonses to other answers will be `\"previous job\"` or `\"current job\"`. \n",
    "\n",
    "Furthermore, `\"sought-after job\"` only appears for questions releated to future goals/preferences; and in such columns, `\"sought-after job\"` is the noly non-null/non-empty string repsonse.\n",
    "\n",
    "Altogether, this means that we can treat responses in these columns as simple $yes$/$no$ responses.\n",
    "\n",
    "__Aside__:  \n",
    "There are `472` records that have `\"Do you work currently?\"` as `NULL`. Additionally, all of these records have a response  of `no` for the question `\"Are you looking for a job?\"`. Furthermore, while they do include demographic data, $D1\\#$-$D4\\#$, they do not include any responses for the grouped columns. \n",
    "\n",
    "Conceptually, this isn't an issue. In terms of data, `472` is a sizeable portion of our data: $\\frac{472}{3692} = 0.1278$.  However, the records don't contribute anything substantial if they are missing key responses. They should be ignored for other types of calculations. Importantly, if we are calculating any ratios or distributions, we should use a total record count of $3962-472=3220$."
   ]
  },
  {
   "cell_type": "markdown",
   "metadata": {},
   "source": [
    "Using SQLite Studio and the quick aggregations and comparison abilities of SQL ended up being the way forward. With so many small unanswered questions, especially looking for column dependencies, the SQL evnironment was faster. Most importantly, in SQLite Studio output is immediately tabular, results are quickly sortable, etc. With this data, restructuring using `CASE` statements was a good choice.\n",
    "\n",
    "> \"The result of the CASE expression is the evaluation of the THEN expression that corresponds to the first WHEN expression that evaluates to true\".\n",
    "- https://www.sqlite.org/lang_expr.html \n",
    "\n",
    "This rule allowed us to easily apply our \"max preference\" smoothing in SQL."
   ]
  },
  {
   "cell_type": "markdown",
   "metadata": {},
   "source": [
    "- The first restructuring query, shown below, was not as useful down-the-line.\n",
    "- After exploring the use-cases of the query results, a set of new queries were used."
   ]
  },
  {
   "cell_type": "code",
   "execution_count": 5,
   "metadata": {
    "collapsed": true
   },
   "outputs": [],
   "source": [
    "# Data restructuring\n",
    "\n",
    "restruc_q = \"\"\"\n",
    "\n",
    "select\n",
    "    Jobs.id,\n",
    "    Jobs.\"Are you looking for a job?\" as are_you_looking,\n",
    "    Jobs.\"Q13-C22 - Do you work currently? - Answer\" as do_you_work,\n",
    "    \n",
    "    case when Jobs.\"How far do you live from current or previous work - more than 100 km\" <> '' then 101\n",
    "         when Jobs.\"How far do you live from current or previous work - 51 - 100 km\" <> '' then 51\n",
    "         when Jobs.\"How far do you live from current or previous work - 21 - 50 km\" <> '' then 21\n",
    "         when Jobs.\"How far do you live from current or previous work - 11 - 20 km\" <> '' then 11\n",
    "         when Jobs.\"How far do you live from current or previous work - 5 -10 km\" <> '' then 5\n",
    "         when Jobs.\"How far do you live from current or previous work - less than 5 km\" <> '' then 1\n",
    "         else NULL end as curr_how_far,\n",
    "\n",
    "    case when Jobs.\"How far are you able to commute - more than 100 km\" <> '' then 101\n",
    "         when Jobs.\"How far are you able to commute - less than 51 - 100 km\" <> '' then 51\n",
    "         when Jobs.\"How far are you able to commute - less than 21 - 50 km\" <> '' then 21\n",
    "         when Jobs.\"How far are you able to commute - less than 11 - 20 km\" <> '' then 11\n",
    "         when Jobs.\"How far are you able to commute - less than 5 - 10 km\" <> '' then 5\n",
    "         when Jobs.\"How far are you able to commute - less than 5 km\" <> '' then 1\n",
    "         else NULL end as fut_how_far,\n",
    "     \n",
    "    case when Jobs.\"What is your current or previous monthly net salary - more than 6000 EUR\" <> '' then 6001\n",
    "         when Jobs.\"What is your current or previous monthly net salary - 5001 - 6000 EUR\" <> '' then 5001\n",
    "         when Jobs.\"What is your current or previous monthly net salary - 4001 - 5000 EUR\" <> '' then 4001\n",
    "         when Jobs.\"What is your current or previous monthly net salary - 3001 - 4000 EUR\" <> '' then 3001\n",
    "         when Jobs.\"What is your current or previous monthly net salary - 2001 - 3000 EUR\" <> '' then 2001\n",
    "         when Jobs.\"What is your current or previous monthly net salary - 1001 - 1500 EUR\" <> '' then 1001\n",
    "         when Jobs.\"What is your current or previous monthly net salary - up to 1000 EUR\" <> '' then 1\n",
    "         when Jobs.\"What is your current or previous monthly net salary - refuse to answer\" <> '' then 0\n",
    "         else NULL end as curr_salary,\n",
    "     \n",
    "    case when Jobs.\"How much would you like to get monthly - more than 6000 EUR\" <> '' then 6001\n",
    "         when Jobs.\"How much would you like to get monthly - 5001 - 6000 EUR\" <> '' then 5001\n",
    "         when Jobs.\"How much would you like to get monthly - 4001 - 5000 EUR\" <> '' then 3001\n",
    "         when Jobs.\"How much would you like to get monthly - 3001 - 4000 EUR\" <> '' then 3001\n",
    "         when Jobs.\"How much would you like to get monthly - 2001 - 3000 EUR\" <> '' then 2001\n",
    "         when Jobs.\"How much would you like to get monthly - 1001 - 1500 EUR\" <> '' then 1001\n",
    "         when Jobs.\"How much would you like to get monthly - up to 1000 EUR\" <> '' then 1\n",
    "         when Jobs.\"How much would you like to get monthly - refuse to answer\" <> '' then 0\n",
    "         else NULL end as fut_salary,\n",
    "\n",
    "    Jobs.\"Have you ever worked before?\" as ever_worked,\n",
    "    Jobs.\"Are you keen on moving closer to your work place?\" as would_move_closer,\n",
    "    Jobs.\"D1# City size\" as city_size,\n",
    "    Jobs.\"D2# Gender\" as gender,\n",
    "    Jobs.\"D3# Age\" as age,\n",
    "    Jobs.\"D4# Education\" as education,\n",
    "    count(1) as subtotal\n",
    "\n",
    "from Jobs\n",
    "Group by 1,2,3,4,5,6,7,8,9,10,11,12,13\n",
    "Order by Jobs.id\n",
    "\n",
    "\"\"\""
   ]
  },
  {
   "cell_type": "markdown",
   "metadata": {},
   "source": [
    "$\\bullet$ The query was placed into a file and used again below.\n",
    "\n",
    "$\\ast$ I ran into another sticking point, when trying to visualize things."
   ]
  },
  {
   "cell_type": "code",
   "execution_count": 12,
   "metadata": {},
   "outputs": [
    {
     "name": "stdout",
     "output_type": "stream",
     "text": [
      "3692\n"
     ]
    },
    {
     "data": {
      "text/plain": [
       "(1.0,\n",
       " 'yes',\n",
       " 'no',\n",
       " 1,\n",
       " 11,\n",
       " 1001,\n",
       " 2001,\n",
       " 'yes',\n",
       " 'no',\n",
       " 'city up to 20k inhabitants',\n",
       " 'female',\n",
       " '31 - 40 years',\n",
       " 'secondary',\n",
       " 1)"
      ]
     },
     "execution_count": 12,
     "metadata": {},
     "output_type": "execute_result"
    }
   ],
   "source": [
    "tcur.execute(restruc_q)\n",
    "restruc_data = tcur.fetchall()\n",
    "print(len(restruc_data))\n",
    "restruc_data[0]"
   ]
  },
  {
   "cell_type": "code",
   "execution_count": 13,
   "metadata": {},
   "outputs": [
    {
     "data": {
      "text/plain": [
       "3692"
      ]
     },
     "execution_count": 13,
     "metadata": {},
     "output_type": "execute_result"
    }
   ],
   "source": [
    "rsd02 = open(\"regroup_type2_a.sql\",'r')\n",
    "rsd02b = rsd02.read()\n",
    "rsd02.close()\n",
    "tcur.execute(rsd02b)\n",
    "restruc_with_ind = tcur.fetchall()\n",
    "len(restruc_with_ind)"
   ]
  },
  {
   "cell_type": "code",
   "execution_count": 15,
   "metadata": {},
   "outputs": [
    {
     "data": {
      "image/png": "[encoded data removed]",
      "text/plain": [
       "<Figure size 432x288 with 1 Axes>"
      ]
     },
     "metadata": {},
     "output_type": "display_data"
    }
   ],
   "source": [
    "temp_001 = [row[3] for row in restruc_with_ind]\n",
    "temp_002 = [row[7] for row in restruc_with_ind]\n",
    "temp001_ar = np.array(temp_001)\n",
    "temp002_ar = np.array(temp_002)\n",
    "plt.plot(temp002_ar,temp001_ar)\n",
    "plt.show()"
   ]
  },
  {
   "cell_type": "markdown",
   "metadata": {},
   "source": [
    "$\\uparrow$ <font size='4'>A straight line?</font> Now that some sort of normalization and restructuring was complete, was it useful?\n",
    "\n",
    "No. I'd missed something. I needed to stop and reconsider how to normalize the data in order to be able to visualize things, and extract the answers posed."
   ]
  },
  {
   "cell_type": "markdown",
   "metadata": {},
   "source": [
    "- We release the cursor, and close the connection we've been using until now."
   ]
  },
  {
   "cell_type": "code",
   "execution_count": 14,
   "metadata": {
    "collapsed": true
   },
   "outputs": [],
   "source": [
    "tcur.close()"
   ]
  },
  {
   "cell_type": "code",
   "execution_count": 15,
   "metadata": {
    "collapsed": true
   },
   "outputs": [],
   "source": [
    "temp_connect.close()"
   ]
  },
  {
   "cell_type": "markdown",
   "metadata": {},
   "source": [
    "#### Data Smoothing - Part 2"
   ]
  },
  {
   "cell_type": "markdown",
   "metadata": {},
   "source": [
    "My previous normalization fell short when I tried to make a visualization. Part of this had to do with the structure of the reformatted data. I decided that by making additional tables from various resturcuring results, I could speed up my process.\n",
    "\n",
    "In all, I created 4 additional tables. Each one an iteration on thinking about how to represent the underlying data, such that the questions could be answered thoroughly, and visualized in a way that makes sense."
   ]
  },
  {
   "cell_type": "markdown",
   "metadata": {},
   "source": [
    " - As the first question deals with salary, the queries on `struc2` do aggregation around current/previous and future/expected salary."
   ]
  },
  {
   "cell_type": "code",
   "execution_count": 5,
   "metadata": {
    "collapsed": true
   },
   "outputs": [],
   "source": [
    "struc2_table = make_table(tablename='struc2')\n",
    "t2cur = struc2_table.cursor()"
   ]
  },
  {
   "cell_type": "code",
   "execution_count": 6,
   "metadata": {
    "collapsed": true
   },
   "outputs": [],
   "source": [
    "agg01 = \"\"\"\n",
    "select\n",
    "    count(coalesce(struc2.curr_salary,0)),\n",
    "    count(coalesce(struc2.fut_salary,0)),\n",
    "    struc2.curr_sal_cat,\n",
    "    struc2.fut_sal_cat\n",
    "from struc2\n",
    "group by 3,4\n",
    "\"\"\"\n",
    "agg02 = \"\"\"\n",
    "select\n",
    "    count(coalesce(struc2.curr_salary,0)),\n",
    "    count(coalesce(struc2.fut_salary,0)),\n",
    "    struc2.curr_sal_cat,\n",
    "    struc2.fut_sal_cat\n",
    "from struc2\n",
    "where (struc2.curr_sal_cat is not null)\n",
    "    and (struc2.fut_sal_cat is not null)\n",
    "group by 3,4\n",
    "\"\"\"\n",
    "\n",
    "t2cur.execute(agg01)\n",
    "res01 = t2cur.fetchall()\n",
    "t2cur.execute(agg02)\n",
    "res02 = t2cur.fetchall()"
   ]
  },
  {
   "cell_type": "code",
   "execution_count": 39,
   "metadata": {},
   "outputs": [
    {
     "data": {
      "text/plain": [
       "(627, 627, None, None)"
      ]
     },
     "execution_count": 39,
     "metadata": {},
     "output_type": "execute_result"
    }
   ],
   "source": [
    "res01[0]"
   ]
  },
  {
   "cell_type": "code",
   "execution_count": 40,
   "metadata": {},
   "outputs": [
    {
     "data": {
      "text/plain": [
       "(118, 118, 0, 0)"
      ]
     },
     "execution_count": 40,
     "metadata": {},
     "output_type": "execute_result"
    }
   ],
   "source": [
    "res02[0]"
   ]
  },
  {
   "cell_type": "code",
   "execution_count": 41,
   "metadata": {},
   "outputs": [
    {
     "data": {
      "text/plain": [
       "[(118, 118, 0, 0),\n",
       " (12, 12, 0, 1),\n",
       " (39, 39, 0, 1001),\n",
       " (25, 25, 0, 2001),\n",
       " (27, 27, 0, 3001),\n",
       " (4, 4, 0, 5001),\n",
       " (11, 11, 0, 6001),\n",
       " (24, 24, 1, 0),\n",
       " (98, 98, 1, 1),\n",
       " (469, 469, 1, 1001)]"
      ]
     },
     "execution_count": 41,
     "metadata": {},
     "output_type": "execute_result"
    }
   ],
   "source": [
    "res02[:10]"
   ]
  },
  {
   "cell_type": "code",
   "execution_count": 42,
   "metadata": {
    "collapsed": true
   },
   "outputs": [],
   "source": [
    "cs = [x[0] for x in res02]\n",
    "fs = [x[1] for x in res02]\n",
    "cc = [x[2] for x in res02]\n",
    "fc = [x[3] for x in res02]"
   ]
  },
  {
   "cell_type": "markdown",
   "metadata": {},
   "source": [
    "- Viz.A __First concrete visualization__\n",
    "\n",
    "This plot _attempts_ to show the distribution and relation betwen current and epxected salary"
   ]
  },
  {
   "cell_type": "code",
   "execution_count": 43,
   "metadata": {},
   "outputs": [
    {
     "data": {
      "image/png": "[encoded data removed]",
      "text/plain": [
       "<Figure size 720x288 with 1 Axes>"
      ]
     },
     "metadata": {},
     "output_type": "display_data"
    }
   ],
   "source": [
    "plt.figure(figsize=(10,4))\n",
    "sns.set(font_scale=1.5)\n",
    "sns.swarmplot(x=fc,y=cs,hue=cc,size=10)\n",
    "plt.legend(bbox_to_anchor=(1.05,1),loc=2, borderaxespad=0.)\n",
    "plt.show()"
   ]
  },
  {
   "cell_type": "markdown",
   "metadata": {},
   "source": [
    "- Viz.B __Second concrete visualization__\n",
    "\n",
    "This plot also tries to show the distribution and relation betwen current and epxected salary"
   ]
  },
  {
   "cell_type": "code",
   "execution_count": 44,
   "metadata": {},
   "outputs": [
    {
     "data": {
      "image/png": "[encoded data removed]",
      "text/plain": [
       "<Figure size 720x288 with 1 Axes>"
      ]
     },
     "metadata": {},
     "output_type": "display_data"
    }
   ],
   "source": [
    "plt.figure(figsize=(10,4))\n",
    "sns.set(font_scale=1.5)\n",
    "sns.barplot(x=fc,y=cs,hue=cc)\n",
    "plt.legend(bbox_to_anchor=(1.05,1),loc=2, borderaxespad=0.)\n",
    "plt.show()"
   ]
  },
  {
   "cell_type": "markdown",
   "metadata": {},
   "source": [
    "__ Viz.A and Viz.B__ description, and what's wrong\n",
    "\n",
    "Description: In both plots, we have __future salary__ categories on the $X$-axis and __totals__ on the $Y$-axis. The colors, represent __current/previous salary__.\n",
    "- For example, 2001 = \"2000 - 3000 EUR\". \n",
    "  - And around 198 people who would like \"2000-3000 EUR\" in the future, also currently make \"2000-3000 EUR\"\n",
    "  \n",
    "What's wrong: It's colorful but confusing. Given the number of categoires, we should represent each separately."
   ]
  },
  {
   "cell_type": "markdown",
   "metadata": {},
   "source": [
    "At this point, we've achieved smoothing and normalization of the data and now look to manipulaitons that give us answers."
   ]
  },
  {
   "cell_type": "markdown",
   "metadata": {},
   "source": [
    "- Looking into Pandas crosstabs, they seem to push us forward.\n",
    "- After the attempt below, table `struc11` is made in the SQL db, and we visualize the distributions"
   ]
  },
  {
   "cell_type": "markdown",
   "metadata": {},
   "source": [
    "---\n",
    "<div class=\"alert alert-block alert-success\"><font face='Avenir' size=5>\n",
    "<b>Start:</b> With a bulk of the hiccups out of the way, we begin answering the initial questions.</font>\n",
    "</div>\n",
    "\n",
    "---"
   ]
  },
  {
   "cell_type": "code",
   "execution_count": 18,
   "metadata": {},
   "outputs": [
    {
     "data": {
      "text/html": [
       "<div>\n",
       "<style scoped>\n",
       "    .dataframe tbody tr th:only-of-type {\n",
       "        vertical-align: middle;\n",
       "    }\n",
       "\n",
       "    .dataframe tbody tr th {\n",
       "        vertical-align: top;\n",
       "    }\n",
       "\n",
       "    .dataframe thead th {\n",
       "        text-align: right;\n",
       "    }\n",
       "</style>\n",
       "<table border=\"1\" class=\"dataframe\">\n",
       "  <thead>\n",
       "    <tr style=\"text-align: right;\">\n",
       "      <th></th>\n",
       "      <th>cur_sal</th>\n",
       "      <th>fut_sal</th>\n",
       "      <th>cur_class</th>\n",
       "      <th>fut_class</th>\n",
       "    </tr>\n",
       "  </thead>\n",
       "  <tbody>\n",
       "    <tr>\n",
       "      <th>0</th>\n",
       "      <td>118</td>\n",
       "      <td>118</td>\n",
       "      <td>0</td>\n",
       "      <td>0</td>\n",
       "    </tr>\n",
       "    <tr>\n",
       "      <th>1</th>\n",
       "      <td>12</td>\n",
       "      <td>12</td>\n",
       "      <td>0</td>\n",
       "      <td>1</td>\n",
       "    </tr>\n",
       "    <tr>\n",
       "      <th>2</th>\n",
       "      <td>39</td>\n",
       "      <td>39</td>\n",
       "      <td>0</td>\n",
       "      <td>1001</td>\n",
       "    </tr>\n",
       "    <tr>\n",
       "      <th>3</th>\n",
       "      <td>25</td>\n",
       "      <td>25</td>\n",
       "      <td>0</td>\n",
       "      <td>2001</td>\n",
       "    </tr>\n",
       "    <tr>\n",
       "      <th>4</th>\n",
       "      <td>27</td>\n",
       "      <td>27</td>\n",
       "      <td>0</td>\n",
       "      <td>3001</td>\n",
       "    </tr>\n",
       "    <tr>\n",
       "      <th>5</th>\n",
       "      <td>4</td>\n",
       "      <td>4</td>\n",
       "      <td>0</td>\n",
       "      <td>5001</td>\n",
       "    </tr>\n",
       "    <tr>\n",
       "      <th>6</th>\n",
       "      <td>11</td>\n",
       "      <td>11</td>\n",
       "      <td>0</td>\n",
       "      <td>6001</td>\n",
       "    </tr>\n",
       "    <tr>\n",
       "      <th>7</th>\n",
       "      <td>24</td>\n",
       "      <td>24</td>\n",
       "      <td>1</td>\n",
       "      <td>0</td>\n",
       "    </tr>\n",
       "    <tr>\n",
       "      <th>8</th>\n",
       "      <td>98</td>\n",
       "      <td>98</td>\n",
       "      <td>1</td>\n",
       "      <td>1</td>\n",
       "    </tr>\n",
       "    <tr>\n",
       "      <th>9</th>\n",
       "      <td>469</td>\n",
       "      <td>469</td>\n",
       "      <td>1</td>\n",
       "      <td>1001</td>\n",
       "    </tr>\n",
       "  </tbody>\n",
       "</table>\n",
       "</div>"
      ],
      "text/plain": [
       "   cur_sal  fut_sal  cur_class  fut_class\n",
       "0      118      118          0          0\n",
       "1       12       12          0          1\n",
       "2       39       39          0       1001\n",
       "3       25       25          0       2001\n",
       "4       27       27          0       3001\n",
       "5        4        4          0       5001\n",
       "6       11       11          0       6001\n",
       "7       24       24          1          0\n",
       "8       98       98          1          1\n",
       "9      469      469          1       1001"
      ]
     },
     "execution_count": 18,
     "metadata": {},
     "output_type": "execute_result"
    }
   ],
   "source": [
    "resdf = pd.DataFrame(res02)\n",
    "resdf.columns = ['cur_sal','fut_sal','cur_class','fut_class']\n",
    "resdf[:10]"
   ]
  },
  {
   "cell_type": "code",
   "execution_count": 19,
   "metadata": {},
   "outputs": [
    {
     "data": {
      "text/html": [
       "<div>\n",
       "<style scoped>\n",
       "    .dataframe tbody tr th:only-of-type {\n",
       "        vertical-align: middle;\n",
       "    }\n",
       "\n",
       "    .dataframe tbody tr th {\n",
       "        vertical-align: top;\n",
       "    }\n",
       "\n",
       "    .dataframe thead th {\n",
       "        text-align: right;\n",
       "    }\n",
       "</style>\n",
       "<table border=\"1\" class=\"dataframe\">\n",
       "  <thead>\n",
       "    <tr style=\"text-align: right;\">\n",
       "      <th>cur_class</th>\n",
       "      <th>0</th>\n",
       "      <th>1</th>\n",
       "      <th>1001</th>\n",
       "      <th>2001</th>\n",
       "      <th>3001</th>\n",
       "      <th>4001</th>\n",
       "      <th>5001</th>\n",
       "      <th>6001</th>\n",
       "    </tr>\n",
       "    <tr>\n",
       "      <th>fut_class</th>\n",
       "      <th></th>\n",
       "      <th></th>\n",
       "      <th></th>\n",
       "      <th></th>\n",
       "      <th></th>\n",
       "      <th></th>\n",
       "      <th></th>\n",
       "      <th></th>\n",
       "    </tr>\n",
       "  </thead>\n",
       "  <tbody>\n",
       "    <tr>\n",
       "      <th>0</th>\n",
       "      <td>118.0</td>\n",
       "      <td>24.0</td>\n",
       "      <td>18.0</td>\n",
       "      <td>8.0</td>\n",
       "      <td>2.0</td>\n",
       "      <td>NaN</td>\n",
       "      <td>1.0</td>\n",
       "      <td>NaN</td>\n",
       "    </tr>\n",
       "    <tr>\n",
       "      <th>1</th>\n",
       "      <td>12.0</td>\n",
       "      <td>98.0</td>\n",
       "      <td>16.0</td>\n",
       "      <td>8.0</td>\n",
       "      <td>3.0</td>\n",
       "      <td>NaN</td>\n",
       "      <td>NaN</td>\n",
       "      <td>1.0</td>\n",
       "    </tr>\n",
       "    <tr>\n",
       "      <th>1001</th>\n",
       "      <td>39.0</td>\n",
       "      <td>469.0</td>\n",
       "      <td>155.0</td>\n",
       "      <td>26.0</td>\n",
       "      <td>10.0</td>\n",
       "      <td>7.0</td>\n",
       "      <td>1.0</td>\n",
       "      <td>1.0</td>\n",
       "    </tr>\n",
       "    <tr>\n",
       "      <th>2001</th>\n",
       "      <td>25.0</td>\n",
       "      <td>382.0</td>\n",
       "      <td>395.0</td>\n",
       "      <td>190.0</td>\n",
       "      <td>24.0</td>\n",
       "      <td>12.0</td>\n",
       "      <td>11.0</td>\n",
       "      <td>1.0</td>\n",
       "    </tr>\n",
       "    <tr>\n",
       "      <th>3001</th>\n",
       "      <td>27.0</td>\n",
       "      <td>81.0</td>\n",
       "      <td>116.0</td>\n",
       "      <td>218.0</td>\n",
       "      <td>95.0</td>\n",
       "      <td>28.0</td>\n",
       "      <td>9.0</td>\n",
       "      <td>3.0</td>\n",
       "    </tr>\n",
       "    <tr>\n",
       "      <th>5001</th>\n",
       "      <td>4.0</td>\n",
       "      <td>7.0</td>\n",
       "      <td>17.0</td>\n",
       "      <td>26.0</td>\n",
       "      <td>23.0</td>\n",
       "      <td>28.0</td>\n",
       "      <td>18.0</td>\n",
       "      <td>2.0</td>\n",
       "    </tr>\n",
       "    <tr>\n",
       "      <th>6001</th>\n",
       "      <td>11.0</td>\n",
       "      <td>42.0</td>\n",
       "      <td>33.0</td>\n",
       "      <td>22.0</td>\n",
       "      <td>7.0</td>\n",
       "      <td>2.0</td>\n",
       "      <td>4.0</td>\n",
       "      <td>2.0</td>\n",
       "    </tr>\n",
       "  </tbody>\n",
       "</table>\n",
       "</div>"
      ],
      "text/plain": [
       "cur_class   0      1      1001   2001  3001  4001  5001  6001\n",
       "fut_class                                                    \n",
       "0          118.0   24.0   18.0    8.0   2.0   NaN   1.0   NaN\n",
       "1           12.0   98.0   16.0    8.0   3.0   NaN   NaN   1.0\n",
       "1001        39.0  469.0  155.0   26.0  10.0   7.0   1.0   1.0\n",
       "2001        25.0  382.0  395.0  190.0  24.0  12.0  11.0   1.0\n",
       "3001        27.0   81.0  116.0  218.0  95.0  28.0   9.0   3.0\n",
       "5001         4.0    7.0   17.0   26.0  23.0  28.0  18.0   2.0\n",
       "6001        11.0   42.0   33.0   22.0   7.0   2.0   4.0   2.0"
      ]
     },
     "execution_count": 19,
     "metadata": {},
     "output_type": "execute_result"
    }
   ],
   "source": [
    "cross01 = pd.crosstab(index=resdf[\"fut_class\"],columns=resdf['cur_class'],values=resdf[\"cur_sal\"], aggfunc=sum)\n",
    "pd.crosstab(index=resdf[\"fut_class\"],columns=resdf['cur_class'],values=resdf[\"cur_sal\"], aggfunc=sum)"
   ]
  },
  {
   "cell_type": "code",
   "execution_count": 61,
   "metadata": {},
   "outputs": [
    {
     "data": {
      "text/plain": [
       "cur_class\n",
       "0        39.0\n",
       "1       469.0\n",
       "1001    155.0\n",
       "2001     26.0\n",
       "3001     10.0\n",
       "4001      7.0\n",
       "5001      1.0\n",
       "6001      1.0\n",
       "Name: 1001, dtype: float64"
      ]
     },
     "execution_count": 61,
     "metadata": {},
     "output_type": "execute_result"
    }
   ],
   "source": [
    "cross01.T[1001]"
   ]
  },
  {
   "cell_type": "code",
   "execution_count": 62,
   "metadata": {},
   "outputs": [
    {
     "data": {
      "text/plain": [
       "<BarContainer object of 8 artists>"
      ]
     },
     "execution_count": 62,
     "metadata": {},
     "output_type": "execute_result"
    },
    {
     "data": {
      "image/png": "[encoded data removed]",
      "text/plain": [
       "<Figure size 432x288 with 1 Axes>"
      ]
     },
     "metadata": {},
     "output_type": "display_data"
    }
   ],
   "source": [
    "plt.bar(cross01.T[1001],cross01.T[1001])\n",
    "plt.show()"
   ]
  },
  {
   "cell_type": "markdown",
   "metadata": {},
   "source": [
    "- With the learnings from the first crosstab, we make the new `struc11` table and query from it"
   ]
  },
  {
   "cell_type": "code",
   "execution_count": 64,
   "metadata": {
    "collapsed": true
   },
   "outputs": [],
   "source": [
    "titles01 = ['No Ans','<1k','<2k','<3k','<4k','<5k','<6k','6k+']\n",
    "margins = [0,1,1001,2001,3001,4001,5001,6001]"
   ]
  },
  {
   "cell_type": "code",
   "execution_count": 60,
   "metadata": {
    "collapsed": true
   },
   "outputs": [],
   "source": [
    "# connect to tabl struc11 and return the connection, then the cursor\n",
    "struc11_table = make_table(tablename='struc11')\n",
    "t11cur = struc11_table.cursor()"
   ]
  },
  {
   "cell_type": "code",
   "execution_count": 61,
   "metadata": {
    "collapsed": true
   },
   "outputs": [],
   "source": [
    "agg11_01 = \"\"\"\n",
    "select\n",
    "    struc11.curr_salary,\n",
    "    struc11.fut_salary,\n",
    "    count(*) as subt\n",
    "\n",
    "from struc11\n",
    "group by 1,2\n",
    "\"\"\""
   ]
  },
  {
   "cell_type": "code",
   "execution_count": 62,
   "metadata": {},
   "outputs": [
    {
     "data": {
      "text/html": [
       "<div>\n",
       "<style>\n",
       "    .dataframe thead tr:only-child th {\n",
       "        text-align: right;\n",
       "    }\n",
       "\n",
       "    .dataframe thead th {\n",
       "        text-align: left;\n",
       "    }\n",
       "\n",
       "    .dataframe tbody tr th {\n",
       "        vertical-align: top;\n",
       "    }\n",
       "</style>\n",
       "<table border=\"1\" class=\"dataframe\">\n",
       "  <thead>\n",
       "    <tr style=\"text-align: right;\">\n",
       "      <th></th>\n",
       "      <th>curr sal</th>\n",
       "      <th>futr sal</th>\n",
       "      <th>subtotal</th>\n",
       "    </tr>\n",
       "  </thead>\n",
       "  <tbody>\n",
       "    <tr>\n",
       "      <th>0</th>\n",
       "      <td>None</td>\n",
       "      <td>None</td>\n",
       "      <td>627</td>\n",
       "    </tr>\n",
       "    <tr>\n",
       "      <th>1</th>\n",
       "      <td>None</td>\n",
       "      <td>6k+</td>\n",
       "      <td>1</td>\n",
       "    </tr>\n",
       "    <tr>\n",
       "      <th>2</th>\n",
       "      <td>None</td>\n",
       "      <td>&lt;1.5k</td>\n",
       "      <td>14</td>\n",
       "    </tr>\n",
       "    <tr>\n",
       "      <th>3</th>\n",
       "      <td>None</td>\n",
       "      <td>&lt;1k</td>\n",
       "      <td>6</td>\n",
       "    </tr>\n",
       "    <tr>\n",
       "      <th>4</th>\n",
       "      <td>None</td>\n",
       "      <td>&lt;3k</td>\n",
       "      <td>15</td>\n",
       "    </tr>\n",
       "  </tbody>\n",
       "</table>\n",
       "</div>"
      ],
      "text/plain": [
       "  curr sal futr sal  subtotal\n",
       "0     None     None       627\n",
       "1     None      6k+         1\n",
       "2     None    <1.5k        14\n",
       "3     None      <1k         6\n",
       "4     None      <3k        15"
      ]
     },
     "execution_count": 62,
     "metadata": {},
     "output_type": "execute_result"
    }
   ],
   "source": [
    "t11cur.execute(agg11_01)\n",
    "res11_01 = t11cur.fetchall()\n",
    "# release cursor and close db connection\n",
    "t11cur.close()\n",
    "struc11_table.close()\n",
    "# --------\n",
    "res11_01df = pd.DataFrame(res11_01,columns=['curr sal','futr sal','subtotal'])\n",
    "res11_01df.head()"
   ]
  },
  {
   "cell_type": "code",
   "execution_count": 63,
   "metadata": {
    "scrolled": true
   },
   "outputs": [
    {
     "data": {
      "text/html": [
       "<div>\n",
       "<style>\n",
       "    .dataframe thead tr:only-child th {\n",
       "        text-align: right;\n",
       "    }\n",
       "\n",
       "    .dataframe thead th {\n",
       "        text-align: left;\n",
       "    }\n",
       "\n",
       "    .dataframe tbody tr th {\n",
       "        vertical-align: top;\n",
       "    }\n",
       "</style>\n",
       "<table border=\"1\" class=\"dataframe\">\n",
       "  <thead>\n",
       "    <tr style=\"text-align: right;\">\n",
       "      <th>curr sal</th>\n",
       "      <th>6k+</th>\n",
       "      <th>&lt;1.5k</th>\n",
       "      <th>&lt;1k</th>\n",
       "      <th>&lt;3k</th>\n",
       "      <th>&lt;4k</th>\n",
       "      <th>&lt;5k</th>\n",
       "      <th>&lt;6k</th>\n",
       "      <th>R2A</th>\n",
       "    </tr>\n",
       "    <tr>\n",
       "      <th>futr sal</th>\n",
       "      <th></th>\n",
       "      <th></th>\n",
       "      <th></th>\n",
       "      <th></th>\n",
       "      <th></th>\n",
       "      <th></th>\n",
       "      <th></th>\n",
       "      <th></th>\n",
       "    </tr>\n",
       "  </thead>\n",
       "  <tbody>\n",
       "    <tr>\n",
       "      <th>6k+</th>\n",
       "      <td>2.0</td>\n",
       "      <td>33.0</td>\n",
       "      <td>42.0</td>\n",
       "      <td>22.0</td>\n",
       "      <td>7.0</td>\n",
       "      <td>2.0</td>\n",
       "      <td>4.0</td>\n",
       "      <td>11.0</td>\n",
       "    </tr>\n",
       "    <tr>\n",
       "      <th>&lt;1.5k</th>\n",
       "      <td>1.0</td>\n",
       "      <td>155.0</td>\n",
       "      <td>469.0</td>\n",
       "      <td>26.0</td>\n",
       "      <td>10.0</td>\n",
       "      <td>7.0</td>\n",
       "      <td>1.0</td>\n",
       "      <td>39.0</td>\n",
       "    </tr>\n",
       "    <tr>\n",
       "      <th>&lt;1k</th>\n",
       "      <td>1.0</td>\n",
       "      <td>16.0</td>\n",
       "      <td>98.0</td>\n",
       "      <td>8.0</td>\n",
       "      <td>3.0</td>\n",
       "      <td>NaN</td>\n",
       "      <td>NaN</td>\n",
       "      <td>12.0</td>\n",
       "    </tr>\n",
       "    <tr>\n",
       "      <th>&lt;3k</th>\n",
       "      <td>1.0</td>\n",
       "      <td>395.0</td>\n",
       "      <td>382.0</td>\n",
       "      <td>190.0</td>\n",
       "      <td>24.0</td>\n",
       "      <td>12.0</td>\n",
       "      <td>11.0</td>\n",
       "      <td>25.0</td>\n",
       "    </tr>\n",
       "    <tr>\n",
       "      <th>&lt;4k</th>\n",
       "      <td>2.0</td>\n",
       "      <td>96.0</td>\n",
       "      <td>66.0</td>\n",
       "      <td>169.0</td>\n",
       "      <td>58.0</td>\n",
       "      <td>8.0</td>\n",
       "      <td>2.0</td>\n",
       "      <td>19.0</td>\n",
       "    </tr>\n",
       "    <tr>\n",
       "      <th>&lt;5k</th>\n",
       "      <td>1.0</td>\n",
       "      <td>20.0</td>\n",
       "      <td>15.0</td>\n",
       "      <td>49.0</td>\n",
       "      <td>37.0</td>\n",
       "      <td>20.0</td>\n",
       "      <td>7.0</td>\n",
       "      <td>8.0</td>\n",
       "    </tr>\n",
       "    <tr>\n",
       "      <th>&lt;6k</th>\n",
       "      <td>2.0</td>\n",
       "      <td>17.0</td>\n",
       "      <td>7.0</td>\n",
       "      <td>26.0</td>\n",
       "      <td>23.0</td>\n",
       "      <td>28.0</td>\n",
       "      <td>18.0</td>\n",
       "      <td>4.0</td>\n",
       "    </tr>\n",
       "    <tr>\n",
       "      <th>R2A</th>\n",
       "      <td>NaN</td>\n",
       "      <td>18.0</td>\n",
       "      <td>24.0</td>\n",
       "      <td>8.0</td>\n",
       "      <td>2.0</td>\n",
       "      <td>NaN</td>\n",
       "      <td>1.0</td>\n",
       "      <td>118.0</td>\n",
       "    </tr>\n",
       "  </tbody>\n",
       "</table>\n",
       "</div>"
      ],
      "text/plain": [
       "curr sal  6k+  <1.5k    <1k    <3k   <4k   <5k   <6k    R2A\n",
       "futr sal                                                   \n",
       "6k+       2.0   33.0   42.0   22.0   7.0   2.0   4.0   11.0\n",
       "<1.5k     1.0  155.0  469.0   26.0  10.0   7.0   1.0   39.0\n",
       "<1k       1.0   16.0   98.0    8.0   3.0   NaN   NaN   12.0\n",
       "<3k       1.0  395.0  382.0  190.0  24.0  12.0  11.0   25.0\n",
       "<4k       2.0   96.0   66.0  169.0  58.0   8.0   2.0   19.0\n",
       "<5k       1.0   20.0   15.0   49.0  37.0  20.0   7.0    8.0\n",
       "<6k       2.0   17.0    7.0   26.0  23.0  28.0  18.0    4.0\n",
       "R2A       NaN   18.0   24.0    8.0   2.0   NaN   1.0  118.0"
      ]
     },
     "execution_count": 63,
     "metadata": {},
     "output_type": "execute_result"
    }
   ],
   "source": [
    "cross11_01 = pd.crosstab(index=res11_01df['futr sal'],\n",
    "                         columns=res11_01df['curr sal'],\n",
    "                         values=res11_01df['subtotal'],\n",
    "                         aggfunc=sum)\n",
    "cross11_01"
   ]
  },
  {
   "cell_type": "markdown",
   "metadata": {},
   "source": [
    "- Our rows and columns aren't in the desired order, so we reindex them"
   ]
  },
  {
   "cell_type": "code",
   "execution_count": 64,
   "metadata": {},
   "outputs": [
    {
     "data": {
      "text/html": [
       "<div>\n",
       "<style>\n",
       "    .dataframe thead tr:only-child th {\n",
       "        text-align: right;\n",
       "    }\n",
       "\n",
       "    .dataframe thead th {\n",
       "        text-align: left;\n",
       "    }\n",
       "\n",
       "    .dataframe tbody tr th {\n",
       "        vertical-align: top;\n",
       "    }\n",
       "</style>\n",
       "<table border=\"1\" class=\"dataframe\">\n",
       "  <thead>\n",
       "    <tr style=\"text-align: right;\">\n",
       "      <th>curr sal</th>\n",
       "      <th>R2A</th>\n",
       "      <th>&lt;1k</th>\n",
       "      <th>&lt;1.5k</th>\n",
       "      <th>&lt;3k</th>\n",
       "      <th>&lt;4k</th>\n",
       "      <th>&lt;5k</th>\n",
       "      <th>&lt;6k</th>\n",
       "      <th>6k+</th>\n",
       "    </tr>\n",
       "    <tr>\n",
       "      <th>futr sal</th>\n",
       "      <th></th>\n",
       "      <th></th>\n",
       "      <th></th>\n",
       "      <th></th>\n",
       "      <th></th>\n",
       "      <th></th>\n",
       "      <th></th>\n",
       "      <th></th>\n",
       "    </tr>\n",
       "  </thead>\n",
       "  <tbody>\n",
       "    <tr>\n",
       "      <th>6k+</th>\n",
       "      <td>11.0</td>\n",
       "      <td>42.0</td>\n",
       "      <td>33.0</td>\n",
       "      <td>22.0</td>\n",
       "      <td>7.0</td>\n",
       "      <td>2.0</td>\n",
       "      <td>4.0</td>\n",
       "      <td>2.0</td>\n",
       "    </tr>\n",
       "    <tr>\n",
       "      <th>&lt;1.5k</th>\n",
       "      <td>39.0</td>\n",
       "      <td>469.0</td>\n",
       "      <td>155.0</td>\n",
       "      <td>26.0</td>\n",
       "      <td>10.0</td>\n",
       "      <td>7.0</td>\n",
       "      <td>1.0</td>\n",
       "      <td>1.0</td>\n",
       "    </tr>\n",
       "    <tr>\n",
       "      <th>&lt;1k</th>\n",
       "      <td>12.0</td>\n",
       "      <td>98.0</td>\n",
       "      <td>16.0</td>\n",
       "      <td>8.0</td>\n",
       "      <td>3.0</td>\n",
       "      <td>NaN</td>\n",
       "      <td>NaN</td>\n",
       "      <td>1.0</td>\n",
       "    </tr>\n",
       "    <tr>\n",
       "      <th>&lt;3k</th>\n",
       "      <td>25.0</td>\n",
       "      <td>382.0</td>\n",
       "      <td>395.0</td>\n",
       "      <td>190.0</td>\n",
       "      <td>24.0</td>\n",
       "      <td>12.0</td>\n",
       "      <td>11.0</td>\n",
       "      <td>1.0</td>\n",
       "    </tr>\n",
       "    <tr>\n",
       "      <th>&lt;4k</th>\n",
       "      <td>19.0</td>\n",
       "      <td>66.0</td>\n",
       "      <td>96.0</td>\n",
       "      <td>169.0</td>\n",
       "      <td>58.0</td>\n",
       "      <td>8.0</td>\n",
       "      <td>2.0</td>\n",
       "      <td>2.0</td>\n",
       "    </tr>\n",
       "    <tr>\n",
       "      <th>&lt;5k</th>\n",
       "      <td>8.0</td>\n",
       "      <td>15.0</td>\n",
       "      <td>20.0</td>\n",
       "      <td>49.0</td>\n",
       "      <td>37.0</td>\n",
       "      <td>20.0</td>\n",
       "      <td>7.0</td>\n",
       "      <td>1.0</td>\n",
       "    </tr>\n",
       "    <tr>\n",
       "      <th>&lt;6k</th>\n",
       "      <td>4.0</td>\n",
       "      <td>7.0</td>\n",
       "      <td>17.0</td>\n",
       "      <td>26.0</td>\n",
       "      <td>23.0</td>\n",
       "      <td>28.0</td>\n",
       "      <td>18.0</td>\n",
       "      <td>2.0</td>\n",
       "    </tr>\n",
       "    <tr>\n",
       "      <th>R2A</th>\n",
       "      <td>118.0</td>\n",
       "      <td>24.0</td>\n",
       "      <td>18.0</td>\n",
       "      <td>8.0</td>\n",
       "      <td>2.0</td>\n",
       "      <td>NaN</td>\n",
       "      <td>1.0</td>\n",
       "      <td>NaN</td>\n",
       "    </tr>\n",
       "  </tbody>\n",
       "</table>\n",
       "</div>"
      ],
      "text/plain": [
       "curr sal    R2A    <1k  <1.5k    <3k   <4k   <5k   <6k  6k+\n",
       "futr sal                                                   \n",
       "6k+        11.0   42.0   33.0   22.0   7.0   2.0   4.0  2.0\n",
       "<1.5k      39.0  469.0  155.0   26.0  10.0   7.0   1.0  1.0\n",
       "<1k        12.0   98.0   16.0    8.0   3.0   NaN   NaN  1.0\n",
       "<3k        25.0  382.0  395.0  190.0  24.0  12.0  11.0  1.0\n",
       "<4k        19.0   66.0   96.0  169.0  58.0   8.0   2.0  2.0\n",
       "<5k         8.0   15.0   20.0   49.0  37.0  20.0   7.0  1.0\n",
       "<6k         4.0    7.0   17.0   26.0  23.0  28.0  18.0  2.0\n",
       "R2A       118.0   24.0   18.0    8.0   2.0   NaN   1.0  NaN"
      ]
     },
     "execution_count": 64,
     "metadata": {},
     "output_type": "execute_result"
    }
   ],
   "source": [
    "cross11_01 = cross11_01.reindex(columns=['R2A', '<1k', '<1.5k', '<3k', '<4k', '<5k', '<6k', '6k+'])\n",
    "cross11_01"
   ]
  },
  {
   "cell_type": "code",
   "execution_count": 65,
   "metadata": {
    "scrolled": true
   },
   "outputs": [
    {
     "data": {
      "text/html": [
       "<div>\n",
       "<style>\n",
       "    .dataframe thead tr:only-child th {\n",
       "        text-align: right;\n",
       "    }\n",
       "\n",
       "    .dataframe thead th {\n",
       "        text-align: left;\n",
       "    }\n",
       "\n",
       "    .dataframe tbody tr th {\n",
       "        vertical-align: top;\n",
       "    }\n",
       "</style>\n",
       "<table border=\"1\" class=\"dataframe\">\n",
       "  <thead>\n",
       "    <tr style=\"text-align: right;\">\n",
       "      <th>curr sal</th>\n",
       "      <th>R2A</th>\n",
       "      <th>&lt;1k</th>\n",
       "      <th>&lt;1.5k</th>\n",
       "      <th>&lt;3k</th>\n",
       "      <th>&lt;4k</th>\n",
       "      <th>&lt;5k</th>\n",
       "      <th>&lt;6k</th>\n",
       "      <th>6k+</th>\n",
       "    </tr>\n",
       "    <tr>\n",
       "      <th>futr sal</th>\n",
       "      <th></th>\n",
       "      <th></th>\n",
       "      <th></th>\n",
       "      <th></th>\n",
       "      <th></th>\n",
       "      <th></th>\n",
       "      <th></th>\n",
       "      <th></th>\n",
       "    </tr>\n",
       "  </thead>\n",
       "  <tbody>\n",
       "    <tr>\n",
       "      <th>R2A</th>\n",
       "      <td>118.0</td>\n",
       "      <td>24.0</td>\n",
       "      <td>18.0</td>\n",
       "      <td>8.0</td>\n",
       "      <td>2.0</td>\n",
       "      <td>NaN</td>\n",
       "      <td>1.0</td>\n",
       "      <td>NaN</td>\n",
       "    </tr>\n",
       "    <tr>\n",
       "      <th>&lt;1k</th>\n",
       "      <td>12.0</td>\n",
       "      <td>98.0</td>\n",
       "      <td>16.0</td>\n",
       "      <td>8.0</td>\n",
       "      <td>3.0</td>\n",
       "      <td>NaN</td>\n",
       "      <td>NaN</td>\n",
       "      <td>1.0</td>\n",
       "    </tr>\n",
       "    <tr>\n",
       "      <th>&lt;1.5k</th>\n",
       "      <td>39.0</td>\n",
       "      <td>469.0</td>\n",
       "      <td>155.0</td>\n",
       "      <td>26.0</td>\n",
       "      <td>10.0</td>\n",
       "      <td>7.0</td>\n",
       "      <td>1.0</td>\n",
       "      <td>1.0</td>\n",
       "    </tr>\n",
       "    <tr>\n",
       "      <th>&lt;3k</th>\n",
       "      <td>25.0</td>\n",
       "      <td>382.0</td>\n",
       "      <td>395.0</td>\n",
       "      <td>190.0</td>\n",
       "      <td>24.0</td>\n",
       "      <td>12.0</td>\n",
       "      <td>11.0</td>\n",
       "      <td>1.0</td>\n",
       "    </tr>\n",
       "    <tr>\n",
       "      <th>&lt;4k</th>\n",
       "      <td>19.0</td>\n",
       "      <td>66.0</td>\n",
       "      <td>96.0</td>\n",
       "      <td>169.0</td>\n",
       "      <td>58.0</td>\n",
       "      <td>8.0</td>\n",
       "      <td>2.0</td>\n",
       "      <td>2.0</td>\n",
       "    </tr>\n",
       "    <tr>\n",
       "      <th>&lt;5k</th>\n",
       "      <td>8.0</td>\n",
       "      <td>15.0</td>\n",
       "      <td>20.0</td>\n",
       "      <td>49.0</td>\n",
       "      <td>37.0</td>\n",
       "      <td>20.0</td>\n",
       "      <td>7.0</td>\n",
       "      <td>1.0</td>\n",
       "    </tr>\n",
       "    <tr>\n",
       "      <th>&lt;6k</th>\n",
       "      <td>4.0</td>\n",
       "      <td>7.0</td>\n",
       "      <td>17.0</td>\n",
       "      <td>26.0</td>\n",
       "      <td>23.0</td>\n",
       "      <td>28.0</td>\n",
       "      <td>18.0</td>\n",
       "      <td>2.0</td>\n",
       "    </tr>\n",
       "    <tr>\n",
       "      <th>6k+</th>\n",
       "      <td>11.0</td>\n",
       "      <td>42.0</td>\n",
       "      <td>33.0</td>\n",
       "      <td>22.0</td>\n",
       "      <td>7.0</td>\n",
       "      <td>2.0</td>\n",
       "      <td>4.0</td>\n",
       "      <td>2.0</td>\n",
       "    </tr>\n",
       "  </tbody>\n",
       "</table>\n",
       "</div>"
      ],
      "text/plain": [
       "curr sal    R2A    <1k  <1.5k    <3k   <4k   <5k   <6k  6k+\n",
       "futr sal                                                   \n",
       "R2A       118.0   24.0   18.0    8.0   2.0   NaN   1.0  NaN\n",
       "<1k        12.0   98.0   16.0    8.0   3.0   NaN   NaN  1.0\n",
       "<1.5k      39.0  469.0  155.0   26.0  10.0   7.0   1.0  1.0\n",
       "<3k        25.0  382.0  395.0  190.0  24.0  12.0  11.0  1.0\n",
       "<4k        19.0   66.0   96.0  169.0  58.0   8.0   2.0  2.0\n",
       "<5k         8.0   15.0   20.0   49.0  37.0  20.0   7.0  1.0\n",
       "<6k         4.0    7.0   17.0   26.0  23.0  28.0  18.0  2.0\n",
       "6k+        11.0   42.0   33.0   22.0   7.0   2.0   4.0  2.0"
      ]
     },
     "execution_count": 65,
     "metadata": {},
     "output_type": "execute_result"
    }
   ],
   "source": [
    "cross11_01 = cross11_01.reindex(index=['R2A', '<1k', '<1.5k', '<3k', '<4k', '<5k', '<6k', '6k+'])\n",
    "cross11_01"
   ]
  },
  {
   "cell_type": "code",
   "execution_count": 66,
   "metadata": {},
   "outputs": [
    {
     "data": {
      "text/html": [
       "<div>\n",
       "<style>\n",
       "    .dataframe thead tr:only-child th {\n",
       "        text-align: right;\n",
       "    }\n",
       "\n",
       "    .dataframe thead th {\n",
       "        text-align: left;\n",
       "    }\n",
       "\n",
       "    .dataframe tbody tr th {\n",
       "        vertical-align: top;\n",
       "    }\n",
       "</style>\n",
       "<table border=\"1\" class=\"dataframe\">\n",
       "  <thead>\n",
       "    <tr style=\"text-align: right;\">\n",
       "      <th>curr sal</th>\n",
       "      <th>R2A</th>\n",
       "      <th>&lt;1k</th>\n",
       "      <th>&lt;1.5k</th>\n",
       "      <th>&lt;3k</th>\n",
       "      <th>&lt;4k</th>\n",
       "      <th>&lt;5k</th>\n",
       "      <th>&lt;6k</th>\n",
       "      <th>6k+</th>\n",
       "      <th>All</th>\n",
       "    </tr>\n",
       "    <tr>\n",
       "      <th>futr sal</th>\n",
       "      <th></th>\n",
       "      <th></th>\n",
       "      <th></th>\n",
       "      <th></th>\n",
       "      <th></th>\n",
       "      <th></th>\n",
       "      <th></th>\n",
       "      <th></th>\n",
       "      <th></th>\n",
       "    </tr>\n",
       "  </thead>\n",
       "  <tbody>\n",
       "    <tr>\n",
       "      <th>R2A</th>\n",
       "      <td>0.500000</td>\n",
       "      <td>0.021759</td>\n",
       "      <td>0.024000</td>\n",
       "      <td>0.016064</td>\n",
       "      <td>0.012195</td>\n",
       "      <td>0.000000</td>\n",
       "      <td>0.022727</td>\n",
       "      <td>0.0</td>\n",
       "      <td>0.059334</td>\n",
       "    </tr>\n",
       "    <tr>\n",
       "      <th>&lt;1k</th>\n",
       "      <td>0.050847</td>\n",
       "      <td>0.088849</td>\n",
       "      <td>0.021333</td>\n",
       "      <td>0.016064</td>\n",
       "      <td>0.018293</td>\n",
       "      <td>0.000000</td>\n",
       "      <td>0.000000</td>\n",
       "      <td>0.1</td>\n",
       "      <td>0.047883</td>\n",
       "    </tr>\n",
       "    <tr>\n",
       "      <th>&lt;1.5k</th>\n",
       "      <td>0.165254</td>\n",
       "      <td>0.425204</td>\n",
       "      <td>0.206667</td>\n",
       "      <td>0.052209</td>\n",
       "      <td>0.060976</td>\n",
       "      <td>0.090909</td>\n",
       "      <td>0.022727</td>\n",
       "      <td>0.1</td>\n",
       "      <td>0.245663</td>\n",
       "    </tr>\n",
       "    <tr>\n",
       "      <th>&lt;3k</th>\n",
       "      <td>0.105932</td>\n",
       "      <td>0.346328</td>\n",
       "      <td>0.526667</td>\n",
       "      <td>0.381526</td>\n",
       "      <td>0.146341</td>\n",
       "      <td>0.155844</td>\n",
       "      <td>0.250000</td>\n",
       "      <td>0.1</td>\n",
       "      <td>0.360861</td>\n",
       "    </tr>\n",
       "    <tr>\n",
       "      <th>&lt;4k</th>\n",
       "      <td>0.080508</td>\n",
       "      <td>0.059837</td>\n",
       "      <td>0.128000</td>\n",
       "      <td>0.339357</td>\n",
       "      <td>0.353659</td>\n",
       "      <td>0.103896</td>\n",
       "      <td>0.045455</td>\n",
       "      <td>0.2</td>\n",
       "      <td>0.145732</td>\n",
       "    </tr>\n",
       "    <tr>\n",
       "      <th>&lt;5k</th>\n",
       "      <td>0.033898</td>\n",
       "      <td>0.013599</td>\n",
       "      <td>0.026667</td>\n",
       "      <td>0.098394</td>\n",
       "      <td>0.225610</td>\n",
       "      <td>0.259740</td>\n",
       "      <td>0.159091</td>\n",
       "      <td>0.1</td>\n",
       "      <td>0.054476</td>\n",
       "    </tr>\n",
       "    <tr>\n",
       "      <th>&lt;6k</th>\n",
       "      <td>0.016949</td>\n",
       "      <td>0.006346</td>\n",
       "      <td>0.022667</td>\n",
       "      <td>0.052209</td>\n",
       "      <td>0.140244</td>\n",
       "      <td>0.363636</td>\n",
       "      <td>0.409091</td>\n",
       "      <td>0.2</td>\n",
       "      <td>0.043373</td>\n",
       "    </tr>\n",
       "    <tr>\n",
       "      <th>6k+</th>\n",
       "      <td>0.046610</td>\n",
       "      <td>0.038078</td>\n",
       "      <td>0.044000</td>\n",
       "      <td>0.044177</td>\n",
       "      <td>0.042683</td>\n",
       "      <td>0.025974</td>\n",
       "      <td>0.090909</td>\n",
       "      <td>0.2</td>\n",
       "      <td>0.042679</td>\n",
       "    </tr>\n",
       "  </tbody>\n",
       "</table>\n",
       "</div>"
      ],
      "text/plain": [
       "curr sal       R2A       <1k     <1.5k       <3k       <4k       <5k  \\\n",
       "futr sal                                                               \n",
       "R2A       0.500000  0.021759  0.024000  0.016064  0.012195  0.000000   \n",
       "<1k       0.050847  0.088849  0.021333  0.016064  0.018293  0.000000   \n",
       "<1.5k     0.165254  0.425204  0.206667  0.052209  0.060976  0.090909   \n",
       "<3k       0.105932  0.346328  0.526667  0.381526  0.146341  0.155844   \n",
       "<4k       0.080508  0.059837  0.128000  0.339357  0.353659  0.103896   \n",
       "<5k       0.033898  0.013599  0.026667  0.098394  0.225610  0.259740   \n",
       "<6k       0.016949  0.006346  0.022667  0.052209  0.140244  0.363636   \n",
       "6k+       0.046610  0.038078  0.044000  0.044177  0.042683  0.025974   \n",
       "\n",
       "curr sal       <6k  6k+       All  \n",
       "futr sal                           \n",
       "R2A       0.022727  0.0  0.059334  \n",
       "<1k       0.000000  0.1  0.047883  \n",
       "<1.5k     0.022727  0.1  0.245663  \n",
       "<3k       0.250000  0.1  0.360861  \n",
       "<4k       0.045455  0.2  0.145732  \n",
       "<5k       0.159091  0.1  0.054476  \n",
       "<6k       0.409091  0.2  0.043373  \n",
       "6k+       0.090909  0.2  0.042679  "
      ]
     },
     "execution_count": 66,
     "metadata": {},
     "output_type": "execute_result"
    }
   ],
   "source": [
    "colista = ['R2A', '<1k', '<1.5k', '<3k', '<4k', '<5k', '<6k', '6k+',\"All\"]\n",
    "cross11_01b = pd.crosstab(index=res11_01df['futr sal'], columns=res11_01df['curr sal'],\n",
    "                         values=res11_01df['subtotal'], aggfunc=sum,\n",
    "                         normalize='columns', margins=True)\n",
    "cross11_01b = cross11_01b.reindex(columns=colista)\n",
    "cross11_01b = cross11_01b.reindex(index=colista[:-1])\n",
    "cross11_01b"
   ]
  },
  {
   "cell_type": "markdown",
   "metadata": {},
   "source": [
    "- We now have well-labeled data in with the aggregates we want, and can show the distributions."
   ]
  },
  {
   "cell_type": "markdown",
   "metadata": {},
   "source": [
    "---\n",
    "<div class=\"alert alert-block alert-warning\">\n",
    "$\\circ$ <font face='Avenir' size=5>1. What is the distribution of expected net income, in relation to current net income?</font><br>\n",
    "</div>\n",
    "  \n",
    "---"
   ]
  },
  {
   "cell_type": "code",
   "execution_count": 67,
   "metadata": {},
   "outputs": [
    {
     "data": {
      "image/png": "[encoded data removed]",
      "text/plain": [
       "<Figure size 1296x648 with 8 Axes>"
      ]
     },
     "metadata": {},
     "output_type": "display_data"
    }
   ],
   "source": [
    "whatcolumn = ['R2A', '<1k', '<1.5k', '<3k', '<4k', '<5k', '<6k', '6k+']\n",
    "whatcolor = ['r','b','g','k','m','y','tab:pink','tab:brown']\n",
    "\n",
    "temp_cross11_01 = cross11_01.fillna(value=0, inplace=False) # remove gaps in the plot\n",
    "\n",
    "sns.set(font_scale=1.5)\n",
    "fig, ax = plt.subplots(2, 4,figsize=(18,9))\n",
    "\n",
    "for row in range(2):\n",
    "    for col in range(4):\n",
    "        rc_ind = (4*row) + col\n",
    "        whclm = whatcolumn[rc_ind]\n",
    "        ax[row,col].plot(temp_cross11_01[whclm], whatcolor[rc_ind], marker='o')\n",
    "        ax[row,col].set_title(whclm)\n",
    "plt.subplots_adjust(hspace=0.3)\n",
    "plt.show()"
   ]
  },
  {
   "cell_type": "code",
   "execution_count": 52,
   "metadata": {},
   "outputs": [
    {
     "data": {
      "image/png": "[encoded data removed]",
      "text/plain": [
       "<Figure size 720x504 with 2 Axes>"
      ]
     },
     "metadata": {},
     "output_type": "display_data"
    }
   ],
   "source": [
    "plt.figure(figsize=(10,7))\n",
    "sns.heatmap(cross11_01b, annot=True)\n",
    "sns.set(font_scale=1.2)\n",
    "plt.xlabel(\"Current Salary\",size=20)\n",
    "plt.xticks(size=14)\n",
    "plt.ylabel(\"Future Salary\", size=20)\n",
    "plt.yticks(size=14)\n",
    "plt.show()"
   ]
  },
  {
   "cell_type": "markdown",
   "metadata": {},
   "source": [
    "<div class=\"alert alert-block alert-warning\">\n",
    "<b><font face='Avenir' size='3'>Answer/Discussion:</font></b></div>\n",
    "<font face=\"Avenir\" size='3'><br><br><b>2x4 plot:</b><br>\n",
    "Each graph above reprsents the distribution of responses for __one__ category of \"current or previous monthly net salary\".<br></font>\n",
    "\n",
    "<font face='Avenir' size='3'><br>What each graph shows, it the expectation for future salaries, based on current salary. Each graph therfore, is a column from the crosstab shown earlier. As arranged, the top-left graph is for `R2A`, which means, 'refused to answer'. This includes respondents who did chose not to disclose their current/previous salary. Many of them (118) did not indicate what they'd like to be paid in their next job. However, some did, and the highest category for this was the category `1000 to 1500 EUR`.<br></font>\n",
    "\n",
    "<font face='Avenir' size='3'><br>The graphs (as indicated by title) progress from right to left, and from top row to bottom row. For each plot, within a graph, a steep point later in the plot indicates a preference for future pay that exceeds current/previous pay.<br></font>\n",
    "\n",
    "<font face='Avenir' size='3'><br>This can best be seen int the `<1.5k` graph. In this plot for this graph, there is a peak at `<3k`. Indicating that more respondents currently earning `1000 - 1500 EUR` want to make `2001 - 3000 EUR` in the future.<br></font>\n",
    "\n",
    "<font face=\"Avenir\" size='3'><br><br><b>Heatmap:</b><br>\n",
    "This plot is well-labeled. The decimal values shown represents the ratio of the Y-axis attribute, in each X-axis column. We can see that 53% of repsondents currently earning `1001 to 1500 EUR`, would like to earn `2001 to 3000 EUR` in their future job/`sought-after job`.\n",
    "</font>"
   ]
  },
  {
   "cell_type": "markdown",
   "metadata": {},
   "source": [
    "<font face='Avenir' size='3'>By default, the crosstab drops data where either the row or column was NULL. This means all the data related to people who didn't respond (different from \"refuse to respond\") on their current or future salary, is not considered.<br></font>\n",
    "\n",
    "<font face='Avenir' size='3'><br>__Note-1:__ When running this process a second time, and specifying `where (struc11.are_you_looking = 'yes') or  (struc11.do_you_work = 'yes')`, the final results are exactly the same. Only the count of people not responsing for both caregories, descreases from `627` to `155`.<br></font>\n",
    "\n",
    "<font face='Avenir' size='3'><br>__Note-2:__ The crosstab values can be normalized by columns using `x = preprocessing.StandardScaler()`, `y = x.fit_transform(someCrosstab)`, `z = pd.DataFrame(y)`. The plot is similar, but our original plot is easier to read raw values from and interpret.</font>"
   ]
  },
  {
   "cell_type": "markdown",
   "metadata": {},
   "source": [
    "---\n",
    "The format of the next two questions implied that something like regression would be useful. For this reason, the dataset was transformed again. The new table created,`logreg01` encoded every single column into an integer value, while still retaining our \"grouped\" columns from before."
   ]
  },
  {
   "cell_type": "markdown",
   "metadata": {},
   "source": [
    "- To compare \"desire to earn more\" and \"willingness to commute\" we should use logistic regression."
   ]
  },
  {
   "cell_type": "markdown",
   "metadata": {},
   "source": [
    "Layout of the `survey.logreg01` table\n",
    "- Our columns of interest will be `logreg01.fut_how_far` and `logreg01.fut_salary`.\n",
    "- We will omit rows where either of the above is `NULL` or `do_you_work` is `NULL`\n",
    "\n",
    "| Column Name | Type of Data\n",
    "|-----|\n",
    "| id |                1-3692                  |\n",
    "| are_you_looking   | 1,0                     |\n",
    "| do_you_work       | 1/0/2 : yes/no/NULL     |\n",
    "| curr_how_far      | 6-1, with NULL as 0     |\n",
    "| fut_how_far       | 6-1, with NULL as 0     |\n",
    "| curr_salary       | 8-1, with NULL as 0     |\n",
    "| fut_salary        | 8-1, with NULL as 0     |\n",
    "| ever_worked       | 1/0/2                   |\n",
    "| would_move_closer | 1/2/0                   |\n",
    "| city_size         | 7-1                     |\n",
    "| gender            | 1/0 : male/female       |\n",
    "| age               | 1-6                     |\n",
    "| education         | 1-4                     |\n",
    "| subtotal          | 1                       |"
   ]
  },
  {
   "cell_type": "code",
   "execution_count": 45,
   "metadata": {
    "collapsed": true
   },
   "outputs": [],
   "source": [
    "logreg_conn = make_table(tablename='logreg01')\n",
    "lr_cur = logreg_conn.cursor()"
   ]
  },
  {
   "cell_type": "code",
   "execution_count": 46,
   "metadata": {
    "collapsed": true
   },
   "outputs": [],
   "source": [
    "lrq_01 = \"\"\"\n",
    "select\n",
    "    logreg01.fut_how_far,\n",
    "    logreg01.fut_salary\n",
    "from logreg01\n",
    "where logreg01.do_you_work <> 2\n",
    "    and logreg01.fut_how_far <> 0\n",
    "    and logreg01.fut_salary <> 0\n",
    "\"\"\""
   ]
  },
  {
   "cell_type": "code",
   "execution_count": 47,
   "metadata": {},
   "outputs": [
    {
     "name": "stdout",
     "output_type": "stream",
     "text": [
      "2871  records\n"
     ]
    },
    {
     "data": {
      "text/html": [
       "<div>\n",
       "<style>\n",
       "    .dataframe thead tr:only-child th {\n",
       "        text-align: right;\n",
       "    }\n",
       "\n",
       "    .dataframe thead th {\n",
       "        text-align: left;\n",
       "    }\n",
       "\n",
       "    .dataframe tbody tr th {\n",
       "        vertical-align: top;\n",
       "    }\n",
       "</style>\n",
       "<table border=\"1\" class=\"dataframe\">\n",
       "  <thead>\n",
       "    <tr style=\"text-align: right;\">\n",
       "      <th></th>\n",
       "      <th>futr dist</th>\n",
       "      <th>futr sal</th>\n",
       "    </tr>\n",
       "  </thead>\n",
       "  <tbody>\n",
       "    <tr>\n",
       "      <th>0</th>\n",
       "      <td>3</td>\n",
       "      <td>4</td>\n",
       "    </tr>\n",
       "    <tr>\n",
       "      <th>1</th>\n",
       "      <td>1</td>\n",
       "      <td>4</td>\n",
       "    </tr>\n",
       "    <tr>\n",
       "      <th>2</th>\n",
       "      <td>1</td>\n",
       "      <td>3</td>\n",
       "    </tr>\n",
       "    <tr>\n",
       "      <th>3</th>\n",
       "      <td>4</td>\n",
       "      <td>4</td>\n",
       "    </tr>\n",
       "    <tr>\n",
       "      <th>4</th>\n",
       "      <td>3</td>\n",
       "      <td>3</td>\n",
       "    </tr>\n",
       "  </tbody>\n",
       "</table>\n",
       "</div>"
      ],
      "text/plain": [
       "   futr dist  futr sal\n",
       "0          3         4\n",
       "1          1         4\n",
       "2          1         3\n",
       "3          4         4\n",
       "4          3         3"
      ]
     },
     "execution_count": 47,
     "metadata": {},
     "output_type": "execute_result"
    }
   ],
   "source": [
    "lr_cur.execute(lrq_01)\n",
    "res_lr_cur_01 = lr_cur.fetchall()\n",
    "# release cursor and close db connection\n",
    "lr_cur.close()\n",
    "logreg_conn.close()\n",
    "# --------\n",
    "logregdf_01 = pd.DataFrame(res_lr_cur_01,columns=['futr dist','futr sal'])\n",
    "print(len(res_lr_cur_01),\" records\")\n",
    "logregdf_01.head()"
   ]
  },
  {
   "cell_type": "code",
   "execution_count": 48,
   "metadata": {},
   "outputs": [
    {
     "name": "stdout",
     "output_type": "stream",
     "text": [
      "2009 862\n"
     ]
    }
   ],
   "source": [
    "X_train, X_test, y_train, y_test = train_test_split(logregdf_01[\"futr sal\"], \n",
    "                                                    logregdf_01[\"futr dist\"],\n",
    "                                                    test_size=0.3)\n",
    "print(len(X_train), len(X_test))"
   ]
  },
  {
   "cell_type": "code",
   "execution_count": 49,
   "metadata": {
    "collapsed": true
   },
   "outputs": [],
   "source": [
    "single_feature_Xtrain = np.array(X_train).reshape(-1,1)\n",
    "single_feature_Xtest = np.array(X_test).reshape(-1,1)"
   ]
  },
  {
   "cell_type": "code",
   "execution_count": 50,
   "metadata": {},
   "outputs": [
    {
     "data": {
      "text/plain": [
       "LogisticRegression(C=1.0, class_weight=None, dual=False, fit_intercept=True,\n",
       "          intercept_scaling=1, max_iter=100, multi_class='ovr', n_jobs=1,\n",
       "          penalty='l2', random_state=None, solver='liblinear', tol=0.0001,\n",
       "          verbose=0, warm_start=False)"
      ]
     },
     "execution_count": 50,
     "metadata": {},
     "output_type": "execute_result"
    }
   ],
   "source": [
    "logisModel = LogisticRegression()\n",
    "logisModel.fit(single_feature_Xtrain, y_train)"
   ]
  },
  {
   "cell_type": "code",
   "execution_count": 51,
   "metadata": {},
   "outputs": [
    {
     "data": {
      "text/plain": [
       "array([[-0.26516705],\n",
       "       [-0.12401945],\n",
       "       [ 0.05839073],\n",
       "       [ 0.20028963],\n",
       "       [ 0.1709831 ],\n",
       "       [ 0.36026524]])"
      ]
     },
     "execution_count": 51,
     "metadata": {},
     "output_type": "execute_result"
    }
   ],
   "source": [
    "logisModel.coef_"
   ]
  },
  {
   "cell_type": "code",
   "execution_count": 52,
   "metadata": {},
   "outputs": [
    {
     "name": "stdout",
     "output_type": "stream",
     "text": [
      "Training score: 0.30662020905923343\n",
      "Testing Score: 0.3190255220417633\n"
     ]
    }
   ],
   "source": [
    "print(\"Training score: {}\".format(logisModel.score(single_feature_Xtrain, y_train)),\n",
    "      \"Testing Score: {}\".format(logisModel.score(single_feature_Xtest, y_test)) ,sep='\\n')"
   ]
  },
  {
   "cell_type": "markdown",
   "metadata": {},
   "source": [
    "$\\uparrow$ We can see by the model score, that desired salary is not a good predictor of willingness to commute."
   ]
  },
  {
   "cell_type": "code",
   "execution_count": 27,
   "metadata": {
    "collapsed": true
   },
   "outputs": [],
   "source": [
    "pred_commute = logisModel.predict(single_feature_Xtest)"
   ]
  },
  {
   "cell_type": "markdown",
   "metadata": {},
   "source": [
    "- The confusion matrix also shows how weak the model is"
   ]
  },
  {
   "cell_type": "code",
   "execution_count": 53,
   "metadata": {},
   "outputs": [
    {
     "data": {
      "text/plain": [
       "array([[ 11, 100,  50,   0,   0,   0],\n",
       "       [ 22, 164,  83,   0,   0,   0],\n",
       "       [ 14, 154,  80,   0,   0,   0],\n",
       "       [  5,  98,  35,   0,   0,   0],\n",
       "       [  0,  14,   3,   0,   0,   0],\n",
       "       [  1,  20,   8,   0,   0,   0]])"
      ]
     },
     "execution_count": 53,
     "metadata": {},
     "output_type": "execute_result"
    }
   ],
   "source": [
    "conf_matrix_01 = confusion_matrix(y_test, pred_commute)\n",
    "conf_matrix_01"
   ]
  },
  {
   "cell_type": "markdown",
   "metadata": {},
   "source": [
    "- Finally, we predict Acceptable Commute, over the full set of Desired Salaries.\n",
    "- Then we check the prediction power of the model against the true Acceptable Commute responses."
   ]
  },
  {
   "cell_type": "code",
   "execution_count": 54,
   "metadata": {
    "scrolled": true
   },
   "outputs": [
    {
     "name": "stdout",
     "output_type": "stream",
     "text": [
      "             precision    recall  f1-score   support\n",
      "\n",
      "          1       0.22      0.06      0.10       625\n",
      "          2       0.33      0.71      0.45       864\n",
      "          3       0.29      0.30      0.30       792\n",
      "          4       0.00      0.00      0.00       437\n",
      "          5       0.00      0.00      0.00        60\n",
      "          6       0.00      0.00      0.00        93\n",
      "\n",
      "avg / total       0.23      0.31      0.24      2871\n",
      "\n"
     ]
    },
    {
     "name": "stderr",
     "output_type": "stream",
     "text": [
      "/Users/revit/anaconda3/lib/python3.6/site-packages/sklearn/metrics/classification.py:1135: UndefinedMetricWarning: Precision and F-score are ill-defined and being set to 0.0 in labels with no predicted samples.\n",
      "  'precision', 'predicted', average, warn_for)\n"
     ]
    }
   ],
   "source": [
    "X_future_salary = np.array(logregdf_01['futr sal']).reshape(-1,1)\n",
    "full_pred_commute = logisModel.predict(X_future_salary)\n",
    "print(classification_report(logregdf_01['futr dist'],full_pred_commute))"
   ]
  },
  {
   "cell_type": "markdown",
   "metadata": {},
   "source": [
    "We can also use the Spearman correlation, because both columns in question are ordinal, and thus something we can rank. Hence the correation is often called the \"rank-order\" correlation.\n",
    "\n",
    "The return value of around $24.9\\%$ implies a weak monotonic relationship between Desired Salary and Acceptable Commute. We can use this as a second test and conclusion."
   ]
  },
  {
   "cell_type": "code",
   "execution_count": 55,
   "metadata": {},
   "outputs": [
    {
     "data": {
      "text/plain": [
       "(0.24938857599336814, 5.8827108585707032e-42)"
      ]
     },
     "execution_count": 55,
     "metadata": {},
     "output_type": "execute_result"
    }
   ],
   "source": [
    "def spear_check(var1, var2):\n",
    "    sp_coeff, pval = spearmanr(var1,var2)\n",
    "    return sp_coeff, pval\n",
    "spear_check(logregdf_01['futr sal'],logregdf_01['futr dist'])"
   ]
  },
  {
   "cell_type": "markdown",
   "metadata": {},
   "source": [
    "---\n",
    "\n",
    "<div class=\"alert alert-block alert-warning\">\n",
    "$\\circ$ <font face='Avenir' size=5>2. What is the correlation between the desire to earn more and the possibility of a longer commute?</font><br>\n",
    "</div>"
   ]
  },
  {
   "cell_type": "code",
   "execution_count": 111,
   "metadata": {},
   "outputs": [
    {
     "data": {
      "image/png": "[encoded data removed]",
      "text/plain": [
       "<Figure size 576x432 with 2 Axes>"
      ]
     },
     "metadata": {},
     "output_type": "display_data"
    }
   ],
   "source": [
    "commute_labels = [\"< 5\",\"< 10\",\"< 20\",\"< 50\",\"<100\",\"100+\"]\n",
    "commute_loctns = np.array([0.5, 1.5, 2.5, 3.5, 4.5, 5.5])\n",
    "y_commute_loctns = np.array([0, 1, 2, 3, 4, 5])\n",
    "plt.figure(figsize=(8,6))\n",
    "sns.heatmap(conf_matrix_01, annot=True, fmt='g', yticklabels =commute_labels)\n",
    "sns.set(font_scale=1)\n",
    "plt.xlabel(\"Predicted Acceptable Commute\",size=20)\n",
    "plt.xticks(commute_loctns,commute_labels,size=14)\n",
    "plt.ylabel(\"True Acceptable Commute\", size=20)\n",
    "plt.yticks(size=14)\n",
    "#plt.Axes.set_yticklabels(labels=commute_labels)\n",
    "#plt.yticks(commute_loctns,commute_labels,size=14)\n",
    "plt.show()"
   ]
  },
  {
   "cell_type": "markdown",
   "metadata": {},
   "source": [
    "<div class=\"alert alert-block alert-warning\">\n",
    "<b><font face='Avenir' size='3'>Answer/Discussion:</font></b></div>\n",
    "\n",
    "<font face=\"Avenir\" size='3'><br><br><b>Via Logistic Regression:</b><br>\n",
    "Our logistic model uses the encodings for \"How much would you like to get monthly?\" as a single, dependent variable to predict encodings \"How far are you able to commute?\" We use logistic instead of linear regression, since the data involved are categorical, both in case of input and output. After training the model, we take a look at its scoring, and how well it scores on the test data (a holdout of 30% of the dataset). The model scores around $30\\%$. We interpret this as telling us our dependent variable is a poor predictor of the output categories. The model report shows the precision, recall and other metrics about the model. However, we can see and guage the performance visually, by illustrating the <b>confusion matrix</b> - a comparison of actual to predicted values.<br><br>\n",
    "</font>\n",
    "$\\Rightarrow$ <font face=\"Avenir\" size='3'>In the confusion matrix, we'd expect to see a bright, highlighted diagonal; along with off-diagonal elements close to zero. This would mean that nearly all Predicted values match the Actual values. However, what we see instead, especially in the `< 10km` and `< 20km` categories are off-diagonal hotspots. For example, the model predicted `5 to 10 km` in 100 cases, where `less than 5km` was the <u>actual</u> response. This _highlights_ (literally and figuratively) the poor model performance, and thus the low correlation between the two variables. </font>\n",
    "\n",
    "<font face=\"Avenir\" size='3'><br><br><b>Via Spearman Rank-Order Correlation:</b><br>\n",
    "Why use this measure? Normal correlation works for interval and ratio data that fit some assumptions - such as being similarly spaced. The data we are using is ordinal at best.\n",
    "    \n",
    "The interpretation is similar, but doesn't measure a _linear_ relationship - rather a _monotonic_ relationship. Based on the caclucated value, __\"Desire to Earn More\"__ and __\"Possibility of a Longer Commute\"__ only move in the same direction with a strenth of $0.24$ on a -1 to 1 scale. In other words, they are $24\\%$ correlated. This is a weak correlation, and not one that can be used reliably for prediction.\n",
    "</font>"
   ]
  },
  {
   "cell_type": "markdown",
   "metadata": {},
   "source": [
    "---"
   ]
  },
  {
   "cell_type": "markdown",
   "metadata": {},
   "source": [
    "- Finally, we can address the factors involved in willingness to move closer to work."
   ]
  },
  {
   "cell_type": "markdown",
   "metadata": {},
   "source": [
    "When we think of factors and their importance, then the idea of Pricinal Component Analysis comes to mind. This is similar to both regression and clustering. However, it turns out PCA is more about determining which factors separate our respondents into similar clusters, and how strongly those factors affect the separation. This isn't the question we're trying to answer, but an interesting one.\n",
    "\n",
    "If we want to understand influences on willigness to move lcoser to work, then this value has to be our target. We can use multi-dimensioal logistic regression (since everything is categorical), to find out which dimensions are more explanatory than others."
   ]
  },
  {
   "cell_type": "markdown",
   "metadata": {},
   "source": [
    "We will use the `logreg01` table, and only consider records without certain `NULL`s:\n",
    "- `would_move_closer` $\\neq$ 2 (explicit exclusion)\n",
    "- `do you work` $\\neq$ 2 (implicit exclusion)\n",
    "\n",
    "Of course! If we are trying to predict willingness to move closer to work, we exclude records where that response was `NULL`.\n",
    "\n",
    "By the fist exclusion, all records where \"Do you work currently?\" was not answered, are also exlcuded."
   ]
  },
  {
   "cell_type": "code",
   "execution_count": 7,
   "metadata": {
    "collapsed": true
   },
   "outputs": [],
   "source": [
    "logreg_conn = make_table(tablename='logreg01')\n",
    "lr_cur = logreg_conn.cursor()"
   ]
  },
  {
   "cell_type": "code",
   "execution_count": 8,
   "metadata": {
    "collapsed": true
   },
   "outputs": [],
   "source": [
    "lrq_02 = \"\"\"\n",
    "select\n",
    "       are_you_looking,\n",
    "       do_you_work,\n",
    "       curr_how_far,\n",
    "       fut_how_far,\n",
    "       curr_salary,\n",
    "       fut_salary,\n",
    "       ever_worked,\n",
    "       would_move_closer,\n",
    "       city_size,\n",
    "       gender,\n",
    "       age,\n",
    "       education\n",
    "from logreg01\n",
    "where logreg01.would_move_closer <> 2\n",
    "\"\"\""
   ]
  },
  {
   "cell_type": "code",
   "execution_count": 9,
   "metadata": {},
   "outputs": [
    {
     "name": "stdout",
     "output_type": "stream",
     "text": [
      "3212  records\n"
     ]
    },
    {
     "data": {
      "text/html": [
       "<div>\n",
       "<style>\n",
       "    .dataframe thead tr:only-child th {\n",
       "        text-align: right;\n",
       "    }\n",
       "\n",
       "    .dataframe thead th {\n",
       "        text-align: left;\n",
       "    }\n",
       "\n",
       "    .dataframe tbody tr th {\n",
       "        vertical-align: top;\n",
       "    }\n",
       "</style>\n",
       "<table border=\"1\" class=\"dataframe\">\n",
       "  <thead>\n",
       "    <tr style=\"text-align: right;\">\n",
       "      <th></th>\n",
       "      <th>are_you_looking</th>\n",
       "      <th>do_you_work</th>\n",
       "      <th>curr_how_far</th>\n",
       "      <th>fut_how_far</th>\n",
       "      <th>curr_salary</th>\n",
       "      <th>fut_salary</th>\n",
       "      <th>ever_worked</th>\n",
       "      <th>would_move_closer</th>\n",
       "      <th>city_size</th>\n",
       "      <th>gender</th>\n",
       "      <th>age</th>\n",
       "      <th>education</th>\n",
       "    </tr>\n",
       "  </thead>\n",
       "  <tbody>\n",
       "    <tr>\n",
       "      <th>0</th>\n",
       "      <td>1</td>\n",
       "      <td>0</td>\n",
       "      <td>1</td>\n",
       "      <td>3</td>\n",
       "      <td>3</td>\n",
       "      <td>4</td>\n",
       "      <td>1</td>\n",
       "      <td>0</td>\n",
       "      <td>2</td>\n",
       "      <td>0</td>\n",
       "      <td>4</td>\n",
       "      <td>2</td>\n",
       "    </tr>\n",
       "    <tr>\n",
       "      <th>1</th>\n",
       "      <td>1</td>\n",
       "      <td>0</td>\n",
       "      <td>1</td>\n",
       "      <td>1</td>\n",
       "      <td>4</td>\n",
       "      <td>4</td>\n",
       "      <td>1</td>\n",
       "      <td>0</td>\n",
       "      <td>5</td>\n",
       "      <td>1</td>\n",
       "      <td>6</td>\n",
       "      <td>2</td>\n",
       "    </tr>\n",
       "    <tr>\n",
       "      <th>2</th>\n",
       "      <td>1</td>\n",
       "      <td>0</td>\n",
       "      <td>1</td>\n",
       "      <td>1</td>\n",
       "      <td>2</td>\n",
       "      <td>3</td>\n",
       "      <td>1</td>\n",
       "      <td>0</td>\n",
       "      <td>4</td>\n",
       "      <td>0</td>\n",
       "      <td>3</td>\n",
       "      <td>2</td>\n",
       "    </tr>\n",
       "    <tr>\n",
       "      <th>3</th>\n",
       "      <td>1</td>\n",
       "      <td>1</td>\n",
       "      <td>1</td>\n",
       "      <td>4</td>\n",
       "      <td>3</td>\n",
       "      <td>4</td>\n",
       "      <td>2</td>\n",
       "      <td>0</td>\n",
       "      <td>2</td>\n",
       "      <td>0</td>\n",
       "      <td>3</td>\n",
       "      <td>4</td>\n",
       "    </tr>\n",
       "    <tr>\n",
       "      <th>4</th>\n",
       "      <td>1</td>\n",
       "      <td>0</td>\n",
       "      <td>1</td>\n",
       "      <td>3</td>\n",
       "      <td>2</td>\n",
       "      <td>3</td>\n",
       "      <td>1</td>\n",
       "      <td>0</td>\n",
       "      <td>3</td>\n",
       "      <td>0</td>\n",
       "      <td>3</td>\n",
       "      <td>4</td>\n",
       "    </tr>\n",
       "  </tbody>\n",
       "</table>\n",
       "</div>"
      ],
      "text/plain": [
       "   are_you_looking  do_you_work  curr_how_far  fut_how_far  curr_salary  \\\n",
       "0                1            0             1            3            3   \n",
       "1                1            0             1            1            4   \n",
       "2                1            0             1            1            2   \n",
       "3                1            1             1            4            3   \n",
       "4                1            0             1            3            2   \n",
       "\n",
       "   fut_salary  ever_worked  would_move_closer  city_size  gender  age  \\\n",
       "0           4            1                  0          2       0    4   \n",
       "1           4            1                  0          5       1    6   \n",
       "2           3            1                  0          4       0    3   \n",
       "3           4            2                  0          2       0    3   \n",
       "4           3            1                  0          3       0    3   \n",
       "\n",
       "   education  \n",
       "0          2  \n",
       "1          2  \n",
       "2          2  \n",
       "3          4  \n",
       "4          4  "
      ]
     },
     "execution_count": 9,
     "metadata": {},
     "output_type": "execute_result"
    }
   ],
   "source": [
    "lr_cur.execute(lrq_02)\n",
    "res_lr_cur_02 = lr_cur.fetchall()\n",
    "# release cursor and close db connection\n",
    "lr_cur.close()\n",
    "logreg_conn.close()\n",
    "# --------\n",
    "temp_colist = ('are_you_looking','do_you_work','curr_how_far',\n",
    "               'fut_how_far','curr_salary','fut_salary','ever_worked',\n",
    "               'would_move_closer','city_size','gender','age','education')\n",
    "\n",
    "movecloser_df = pd.DataFrame(res_lr_cur_02,columns=temp_colist)\n",
    "print(len(res_lr_cur_02),\" records\")\n",
    "movecloser_df.head()"
   ]
  },
  {
   "cell_type": "markdown",
   "metadata": {
    "collapsed": true
   },
   "source": [
    "$\\bullet$ quickly check for independence between our dimensions\n",
    "\n",
    "$\\ast$ Since `are_you_looking` is always $1$ in our query results it will not be used.  \n",
    "&nbsp; &nbsp; $\\circ$ Not only is an unchanging varibale useless, the Spearman Correlation function isn't meant for this type of data."
   ]
  },
  {
   "cell_type": "code",
   "execution_count": 76,
   "metadata": {},
   "outputs": [
    {
     "data": {
      "text/plain": [
       "[1, 2, 3, 4, 5, 6, 8, 9, 10, 11]"
      ]
     },
     "execution_count": 76,
     "metadata": {},
     "output_type": "execute_result"
    }
   ],
   "source": [
    "dims_only_list = list(range(12)) # we have 12 columns - index 0 - 11\n",
    "dims_only_list.remove(7) # index 7 is our target\n",
    "dims_only_list.remove(0) # are_you_looking is always 1. It doesn't vary.\n",
    "dims_only_list"
   ]
  },
  {
   "cell_type": "code",
   "execution_count": 16,
   "metadata": {},
   "outputs": [
    {
     "data": {
      "text/html": [
       "<div>\n",
       "<style>\n",
       "    .dataframe thead tr:only-child th {\n",
       "        text-align: right;\n",
       "    }\n",
       "\n",
       "    .dataframe thead th {\n",
       "        text-align: left;\n",
       "    }\n",
       "\n",
       "    .dataframe tbody tr th {\n",
       "        vertical-align: top;\n",
       "    }\n",
       "</style>\n",
       "<table border=\"1\" class=\"dataframe\">\n",
       "  <thead>\n",
       "    <tr style=\"text-align: right;\">\n",
       "      <th></th>\n",
       "      <th>do_you_work</th>\n",
       "      <th>curr_how_far</th>\n",
       "      <th>fut_how_far</th>\n",
       "      <th>curr_salary</th>\n",
       "      <th>fut_salary</th>\n",
       "      <th>ever_worked</th>\n",
       "      <th>city_size</th>\n",
       "      <th>gender</th>\n",
       "      <th>age</th>\n",
       "      <th>education</th>\n",
       "    </tr>\n",
       "  </thead>\n",
       "  <tbody>\n",
       "    <tr>\n",
       "      <th>0</th>\n",
       "      <td>0</td>\n",
       "      <td>1</td>\n",
       "      <td>3</td>\n",
       "      <td>3</td>\n",
       "      <td>4</td>\n",
       "      <td>1</td>\n",
       "      <td>2</td>\n",
       "      <td>0</td>\n",
       "      <td>4</td>\n",
       "      <td>2</td>\n",
       "    </tr>\n",
       "    <tr>\n",
       "      <th>1</th>\n",
       "      <td>0</td>\n",
       "      <td>1</td>\n",
       "      <td>1</td>\n",
       "      <td>4</td>\n",
       "      <td>4</td>\n",
       "      <td>1</td>\n",
       "      <td>5</td>\n",
       "      <td>1</td>\n",
       "      <td>6</td>\n",
       "      <td>2</td>\n",
       "    </tr>\n",
       "    <tr>\n",
       "      <th>2</th>\n",
       "      <td>0</td>\n",
       "      <td>1</td>\n",
       "      <td>1</td>\n",
       "      <td>2</td>\n",
       "      <td>3</td>\n",
       "      <td>1</td>\n",
       "      <td>4</td>\n",
       "      <td>0</td>\n",
       "      <td>3</td>\n",
       "      <td>2</td>\n",
       "    </tr>\n",
       "    <tr>\n",
       "      <th>3</th>\n",
       "      <td>1</td>\n",
       "      <td>1</td>\n",
       "      <td>4</td>\n",
       "      <td>3</td>\n",
       "      <td>4</td>\n",
       "      <td>2</td>\n",
       "      <td>2</td>\n",
       "      <td>0</td>\n",
       "      <td>3</td>\n",
       "      <td>4</td>\n",
       "    </tr>\n",
       "    <tr>\n",
       "      <th>4</th>\n",
       "      <td>0</td>\n",
       "      <td>1</td>\n",
       "      <td>3</td>\n",
       "      <td>2</td>\n",
       "      <td>3</td>\n",
       "      <td>1</td>\n",
       "      <td>3</td>\n",
       "      <td>0</td>\n",
       "      <td>3</td>\n",
       "      <td>4</td>\n",
       "    </tr>\n",
       "  </tbody>\n",
       "</table>\n",
       "</div>"
      ],
      "text/plain": [
       "   do_you_work  curr_how_far  fut_how_far  curr_salary  fut_salary  \\\n",
       "0            0             1            3            3           4   \n",
       "1            0             1            1            4           4   \n",
       "2            0             1            1            2           3   \n",
       "3            1             1            4            3           4   \n",
       "4            0             1            3            2           3   \n",
       "\n",
       "   ever_worked  city_size  gender  age  education  \n",
       "0            1          2       0    4          2  \n",
       "1            1          5       1    6          2  \n",
       "2            1          4       0    3          2  \n",
       "3            2          2       0    3          4  \n",
       "4            1          3       0    3          4  "
      ]
     },
     "execution_count": 16,
     "metadata": {},
     "output_type": "execute_result"
    }
   ],
   "source": [
    "mc_dims_only = movecloser_df.iloc[:,dims_only_list]\n",
    "mc_dims_only.head()"
   ]
  },
  {
   "cell_type": "code",
   "execution_count": 17,
   "metadata": {},
   "outputs": [
    {
     "data": {
      "text/plain": [
       "array([[0],\n",
       "       [0],\n",
       "       [0],\n",
       "       ..., \n",
       "       [0],\n",
       "       [1],\n",
       "       [1]])"
      ]
     },
     "execution_count": 17,
     "metadata": {},
     "output_type": "execute_result"
    }
   ],
   "source": [
    "mc_target = movecloser_df.loc[:,[\"would_move_closer\"]].values\n",
    "mc_target"
   ]
  },
  {
   "cell_type": "code",
   "execution_count": 51,
   "metadata": {
    "collapsed": true
   },
   "outputs": [],
   "source": [
    "# for each pair of columns, get a correlation score\n",
    "# if the corr is too high, we don't need to use both in our regression\n",
    "\n",
    "def pairwise_independence_check(some_df):\n",
    "    df_colist = list(some_df.columns)\n",
    "    pairs_list = [combo for combo in combinations(list(mc_dims_only.columns),2)]\n",
    "    # [('are_you_looking', 'do_you_work'), ('are_you_looking', 'curr_how_far'), etc]\n",
    "    def pairedtionary(prz_lst):\n",
    "        dempty = {}\n",
    "        for j in prz_lst:\n",
    "            primkey = j[0]\n",
    "            if primkey not in dempty.keys():\n",
    "                dempty[primkey] = {j[1]:0}\n",
    "            else:\n",
    "                scndkey = j[1]\n",
    "                if scndkey not in dempty[primkey].keys():\n",
    "                    dempty[primkey][scndkey] = 0\n",
    "        return dempty\n",
    "    result_dict = pairedtionary(pairs_list)\n",
    "    \n",
    "    for col_pair in pairs_list:\n",
    "        prim, scnd = col_pair[0], col_pair[1]\n",
    "        spear_corr = spearmanr(some_df[prim],some_df[scnd])[0]\n",
    "        scshift_round = int(round(100000 * spear_corr,0))\n",
    "        spear_rounded = scshift_round/100000\n",
    "        result_dict[prim][scnd] = spear_rounded\n",
    "    \n",
    "    return result_dict"
   ]
  },
  {
   "cell_type": "markdown",
   "metadata": {},
   "source": [
    "- We inspect the dictioary below for large correlations"
   ]
  },
  {
   "cell_type": "code",
   "execution_count": 72,
   "metadata": {},
   "outputs": [
    {
     "name": "stdout",
     "output_type": "stream",
     "text": [
      "{'age': {'education': 0.0548},\n",
      " 'city_size': {'age': 0.06558, 'education': 0.05711, 'gender': -0.01456},\n",
      " 'curr_how_far': {'age': 0.08795,\n",
      "                  'city_size': -0.14186,\n",
      "                  'curr_salary': 0.30457,\n",
      "                  'education': 0.00056,\n",
      "                  'ever_worked': 0.22436,\n",
      "                  'fut_how_far': 0.38146,\n",
      "                  'fut_salary': 0.25517,\n",
      "                  'gender': 0.12314},\n",
      " 'curr_salary': {'age': 0.25,\n",
      "                 'city_size': 0.06778,\n",
      "                 'education': 0.02916,\n",
      "                 'ever_worked': 0.19544,\n",
      "                 'fut_salary': 0.52763,\n",
      "                 'gender': 0.31696},\n",
      " 'do_you_work': {'age': 0.0806,\n",
      "                 'city_size': 0.04163,\n",
      "                 'curr_how_far': 0.13161,\n",
      "                 'curr_salary': 0.10131,\n",
      "                 'education': 0.10164,\n",
      "                 'ever_worked': 0.9605,\n",
      "                 'fut_how_far': 0.09891,\n",
      "                 'fut_salary': 0.22899,\n",
      "                 'gender': 0.07734},\n",
      " 'ever_worked': {'age': 0.13888, 'city_size': 0.05744, 'education': 0.10292, 'gender': 0.08643},\n",
      " 'fut_how_far': {'age': 0.03493,\n",
      "                 'city_size': -0.22353,\n",
      "                 'curr_salary': 0.2369,\n",
      "                 'education': 0.0591,\n",
      "                 'ever_worked': 0.18812,\n",
      "                 'fut_salary': 0.39226,\n",
      "                 'gender': 0.17215},\n",
      " 'fut_salary': {'age': 0.10506,\n",
      "                'city_size': 0.04718,\n",
      "                'education': 0.08825,\n",
      "                'ever_worked': 0.30944,\n",
      "                'gender': 0.30644},\n",
      " 'gender': {'age': 0.12336, 'education': -0.07148}}\n"
     ]
    }
   ],
   "source": [
    "from pprint import pprint\n",
    "pprint(pairwise_independence_check(mc_dims_only), width=100,indent=1)"
   ]
  },
  {
   "cell_type": "markdown",
   "metadata": {},
   "source": [
    "The lagest correlations are between\n",
    "\n",
    "- current commute & ever worked ~ 22%\n",
    "- current & future commute ~ 38%\n",
    "- current commute & future salary ~ 25%\n",
    "\n",
    "\n",
    "- current salary & age  ~ 25%\n",
    "- current & future salary ~ 52%\n",
    "- current salary & gender ~ 31%\n",
    "\n",
    "\n",
    "- __currently working & ever worked__ ~ 96%\n",
    "- currently working & future salary ~ 23%\n",
    "\n",
    "\n",
    "- future commute & city size ~ $-$22%\n",
    "- future commute & future salary ~ 39%\n",
    "\n",
    "\n",
    "- future salary & gender ~ 30%\n",
    "\n",
    "We would expect a relaiton between current pay and future expectations of pay. These two factors ahve the 2nd highest correlation, at about 52%. However, I wouldn't consider one a great proxy for the other.\n",
    "\n",
    "On the other hand, `Have you ever worked before?` gets a 96% Spearman correlation with `Do you work currently?`. We don't need to consider both or these in the logstic regression. More imprtantly, when checking the SQL `logreg01` table, we find something interest, which we can cosider another type of __noise__."
   ]
  },
  {
   "cell_type": "markdown",
   "metadata": {
    "collapsed": true
   },
   "source": [
    "#### <u>Noise - data incongruence</u>\n",
    "\n",
    "$\\Rightarrow$ There are `1093` records with a `2` (i.e. `NULL`) for `ever_worked`, but `1` (`yes`) for `do_you_work` $\\Leftarrow$\n",
    "\n",
    "It's impossible to currently be working, and never have worked before. While literally \"before\" can mean _before this job_, we understand that ths question is meant to incude your current job, even if your current job is your first job.\n",
    "\n",
    "Sine the issue is with the `ever_worked` column, and this column already has a 96% correlation with `do_you_work`, we will drop `ever worked` from the analysis of factors influencing willingenes to move closer to work."
   ]
  },
  {
   "cell_type": "code",
   "execution_count": 82,
   "metadata": {},
   "outputs": [
    {
     "data": {
      "text/html": [
       "<div>\n",
       "<style>\n",
       "    .dataframe thead tr:only-child th {\n",
       "        text-align: right;\n",
       "    }\n",
       "\n",
       "    .dataframe thead th {\n",
       "        text-align: left;\n",
       "    }\n",
       "\n",
       "    .dataframe tbody tr th {\n",
       "        vertical-align: top;\n",
       "    }\n",
       "</style>\n",
       "<table border=\"1\" class=\"dataframe\">\n",
       "  <thead>\n",
       "    <tr style=\"text-align: right;\">\n",
       "      <th></th>\n",
       "      <th>do_you_work</th>\n",
       "      <th>curr_how_far</th>\n",
       "      <th>fut_how_far</th>\n",
       "      <th>curr_salary</th>\n",
       "      <th>fut_salary</th>\n",
       "      <th>city_size</th>\n",
       "      <th>gender</th>\n",
       "      <th>age</th>\n",
       "      <th>education</th>\n",
       "    </tr>\n",
       "  </thead>\n",
       "  <tbody>\n",
       "    <tr>\n",
       "      <th>0</th>\n",
       "      <td>0</td>\n",
       "      <td>1</td>\n",
       "      <td>3</td>\n",
       "      <td>3</td>\n",
       "      <td>4</td>\n",
       "      <td>2</td>\n",
       "      <td>0</td>\n",
       "      <td>4</td>\n",
       "      <td>2</td>\n",
       "    </tr>\n",
       "    <tr>\n",
       "      <th>1</th>\n",
       "      <td>0</td>\n",
       "      <td>1</td>\n",
       "      <td>1</td>\n",
       "      <td>4</td>\n",
       "      <td>4</td>\n",
       "      <td>5</td>\n",
       "      <td>1</td>\n",
       "      <td>6</td>\n",
       "      <td>2</td>\n",
       "    </tr>\n",
       "    <tr>\n",
       "      <th>2</th>\n",
       "      <td>0</td>\n",
       "      <td>1</td>\n",
       "      <td>1</td>\n",
       "      <td>2</td>\n",
       "      <td>3</td>\n",
       "      <td>4</td>\n",
       "      <td>0</td>\n",
       "      <td>3</td>\n",
       "      <td>2</td>\n",
       "    </tr>\n",
       "    <tr>\n",
       "      <th>3</th>\n",
       "      <td>1</td>\n",
       "      <td>1</td>\n",
       "      <td>4</td>\n",
       "      <td>3</td>\n",
       "      <td>4</td>\n",
       "      <td>2</td>\n",
       "      <td>0</td>\n",
       "      <td>3</td>\n",
       "      <td>4</td>\n",
       "    </tr>\n",
       "    <tr>\n",
       "      <th>4</th>\n",
       "      <td>0</td>\n",
       "      <td>1</td>\n",
       "      <td>3</td>\n",
       "      <td>2</td>\n",
       "      <td>3</td>\n",
       "      <td>3</td>\n",
       "      <td>0</td>\n",
       "      <td>3</td>\n",
       "      <td>4</td>\n",
       "    </tr>\n",
       "  </tbody>\n",
       "</table>\n",
       "</div>"
      ],
      "text/plain": [
       "   do_you_work  curr_how_far  fut_how_far  curr_salary  fut_salary  city_size  \\\n",
       "0            0             1            3            3           4          2   \n",
       "1            0             1            1            4           4          5   \n",
       "2            0             1            1            2           3          4   \n",
       "3            1             1            4            3           4          2   \n",
       "4            0             1            3            2           3          3   \n",
       "\n",
       "   gender  age  education  \n",
       "0       0    4          2  \n",
       "1       1    6          2  \n",
       "2       0    3          2  \n",
       "3       0    3          4  \n",
       "4       0    3          4  "
      ]
     },
     "execution_count": 82,
     "metadata": {},
     "output_type": "execute_result"
    }
   ],
   "source": [
    "# get rid of the index for ever_worked\n",
    "log_reg_dims_list = [n for n in dims_only_list] # forcing a new list\n",
    "log_reg_dims_list.remove(6)\n",
    "mc_logreg_dims_only = movecloser_df.iloc[:,log_reg_dims_list]\n",
    "mc_logreg_dims_only.head()"
   ]
  },
  {
   "cell_type": "markdown",
   "metadata": {},
   "source": [
    "- we scale the data"
   ]
  },
  {
   "cell_type": "code",
   "execution_count": 91,
   "metadata": {},
   "outputs": [
    {
     "data": {
      "text/html": [
       "<div>\n",
       "<style>\n",
       "    .dataframe thead tr:only-child th {\n",
       "        text-align: right;\n",
       "    }\n",
       "\n",
       "    .dataframe thead th {\n",
       "        text-align: left;\n",
       "    }\n",
       "\n",
       "    .dataframe tbody tr th {\n",
       "        vertical-align: top;\n",
       "    }\n",
       "</style>\n",
       "<table border=\"1\" class=\"dataframe\">\n",
       "  <thead>\n",
       "    <tr style=\"text-align: right;\">\n",
       "      <th></th>\n",
       "      <th>do_you_work</th>\n",
       "      <th>curr_how_far</th>\n",
       "      <th>fut_how_far</th>\n",
       "      <th>curr_salary</th>\n",
       "      <th>fut_salary</th>\n",
       "      <th>city_size</th>\n",
       "      <th>gender</th>\n",
       "      <th>age</th>\n",
       "      <th>education</th>\n",
       "    </tr>\n",
       "  </thead>\n",
       "  <tbody>\n",
       "    <tr>\n",
       "      <th>3207</th>\n",
       "      <td>-0.718697</td>\n",
       "      <td>-0.083761</td>\n",
       "      <td>0.498214</td>\n",
       "      <td>-1.176970</td>\n",
       "      <td>0.169440</td>\n",
       "      <td>1.508551</td>\n",
       "      <td>-0.983940</td>\n",
       "      <td>-1.054890</td>\n",
       "      <td>1.437735</td>\n",
       "    </tr>\n",
       "    <tr>\n",
       "      <th>3208</th>\n",
       "      <td>-0.718697</td>\n",
       "      <td>0.618696</td>\n",
       "      <td>-0.944113</td>\n",
       "      <td>-0.490119</td>\n",
       "      <td>-0.367286</td>\n",
       "      <td>0.130432</td>\n",
       "      <td>1.016322</td>\n",
       "      <td>1.088703</td>\n",
       "      <td>0.370482</td>\n",
       "    </tr>\n",
       "    <tr>\n",
       "      <th>3209</th>\n",
       "      <td>-0.718697</td>\n",
       "      <td>-0.786218</td>\n",
       "      <td>-0.944113</td>\n",
       "      <td>-1.176970</td>\n",
       "      <td>-1.977464</td>\n",
       "      <td>-0.328941</td>\n",
       "      <td>-0.983940</td>\n",
       "      <td>1.088703</td>\n",
       "      <td>-0.696772</td>\n",
       "    </tr>\n",
       "    <tr>\n",
       "      <th>3210</th>\n",
       "      <td>1.391407</td>\n",
       "      <td>1.321152</td>\n",
       "      <td>-0.222950</td>\n",
       "      <td>-0.490119</td>\n",
       "      <td>-0.367286</td>\n",
       "      <td>-1.247687</td>\n",
       "      <td>-0.983940</td>\n",
       "      <td>1.088703</td>\n",
       "      <td>-0.696772</td>\n",
       "    </tr>\n",
       "    <tr>\n",
       "      <th>3211</th>\n",
       "      <td>-0.718697</td>\n",
       "      <td>-0.786218</td>\n",
       "      <td>0.498214</td>\n",
       "      <td>-0.490119</td>\n",
       "      <td>0.169440</td>\n",
       "      <td>-1.247687</td>\n",
       "      <td>-0.983940</td>\n",
       "      <td>-1.054890</td>\n",
       "      <td>-0.696772</td>\n",
       "    </tr>\n",
       "  </tbody>\n",
       "</table>\n",
       "</div>"
      ],
      "text/plain": [
       "      do_you_work  curr_how_far  fut_how_far  curr_salary  fut_salary  \\\n",
       "3207    -0.718697     -0.083761     0.498214    -1.176970    0.169440   \n",
       "3208    -0.718697      0.618696    -0.944113    -0.490119   -0.367286   \n",
       "3209    -0.718697     -0.786218    -0.944113    -1.176970   -1.977464   \n",
       "3210     1.391407      1.321152    -0.222950    -0.490119   -0.367286   \n",
       "3211    -0.718697     -0.786218     0.498214    -0.490119    0.169440   \n",
       "\n",
       "      city_size    gender       age  education  \n",
       "3207   1.508551 -0.983940 -1.054890   1.437735  \n",
       "3208   0.130432  1.016322  1.088703   0.370482  \n",
       "3209  -0.328941 -0.983940  1.088703  -0.696772  \n",
       "3210  -1.247687 -0.983940  1.088703  -0.696772  \n",
       "3211  -1.247687 -0.983940 -1.054890  -0.696772  "
      ]
     },
     "execution_count": 91,
     "metadata": {},
     "output_type": "execute_result"
    }
   ],
   "source": [
    "tmpcols = list(mc_logreg_dims_only.columns)\n",
    "dtscaler = preprocessing.StandardScaler()\n",
    "scaled_vals = dtscaler.fit_transform(mc_logreg_dims_only) \n",
    "mc_logreg_scaled_dims = pd.DataFrame(scaled_vals, columns=tmpcols)\n",
    "mc_logreg_scaled_dims.tail()"
   ]
  },
  {
   "cell_type": "code",
   "execution_count": 133,
   "metadata": {},
   "outputs": [
    {
     "name": "stdout",
     "output_type": "stream",
     "text": [
      "2890 322\n"
     ]
    }
   ],
   "source": [
    "X_train, X_test, y_train, y_test = train_test_split(mc_logreg_scaled_dims, mc_target, test_size=0.1)\n",
    "print(len(X_train), len(X_test))"
   ]
  },
  {
   "cell_type": "code",
   "execution_count": 114,
   "metadata": {},
   "outputs": [
    {
     "data": {
      "text/plain": [
       "array([0, 0, 0, ..., 1, 1, 1])"
      ]
     },
     "execution_count": 114,
     "metadata": {},
     "output_type": "execute_result"
    }
   ],
   "source": [
    "y_train = y_train.ravel()\n",
    "y_train"
   ]
  },
  {
   "cell_type": "code",
   "execution_count": 115,
   "metadata": {},
   "outputs": [
    {
     "data": {
      "text/plain": [
       "LogisticRegression(C=1.0, class_weight=None, dual=False, fit_intercept=True,\n",
       "          intercept_scaling=1, max_iter=100, multi_class='ovr', n_jobs=1,\n",
       "          penalty='l2', random_state=None, solver='liblinear', tol=0.0001,\n",
       "          verbose=0, warm_start=False)"
      ]
     },
     "execution_count": 115,
     "metadata": {},
     "output_type": "execute_result"
    }
   ],
   "source": [
    "proximity_lgMdl = LogisticRegression()\n",
    "proximity_lgMdl.fit(X_train, y_train)"
   ]
  },
  {
   "cell_type": "code",
   "execution_count": 137,
   "metadata": {},
   "outputs": [
    {
     "data": {
      "text/plain": [
       "array([[ 0.07919702,  0.07332206,  0.22756743, -0.01845092,  0.16727217,\n",
       "        -0.10918477,  0.20453212, -0.2855298 ,  0.14122777]])"
      ]
     },
     "execution_count": 137,
     "metadata": {},
     "output_type": "execute_result"
    }
   ],
   "source": [
    "proximity_lgMdl.coef_"
   ]
  },
  {
   "cell_type": "code",
   "execution_count": 156,
   "metadata": {},
   "outputs": [
    {
     "data": {
      "text/plain": [
       "0.47995308008760806"
      ]
     },
     "execution_count": 156,
     "metadata": {},
     "output_type": "execute_result"
    }
   ],
   "source": [
    "np.sum(proximity_lgMdl.coef_)"
   ]
  },
  {
   "cell_type": "code",
   "execution_count": 127,
   "metadata": {},
   "outputs": [
    {
     "name": "stdout",
     "output_type": "stream",
     "text": [
      "Training score: 0.7290657439446366\n",
      "Testing Score: 0.6925465838509317\n",
      "Combined Score: 0.7254047322540473\n"
     ]
    }
   ],
   "source": [
    "print(\"Training score: {}\".format(proximity_lgMdl.score(X_train, y_train)),\n",
    "      \"Testing Score: {}\".format(proximity_lgMdl.score(X_test, y_test)),\n",
    "      \"Combined Score: {}\".format(proximity_lgMdl.score(mc_logreg_scaled_dims,mc_target))\n",
    "      ,sep='\\n')"
   ]
  },
  {
   "cell_type": "code",
   "execution_count": 128,
   "metadata": {},
   "outputs": [
    {
     "name": "stdout",
     "output_type": "stream",
     "text": [
      "[[213   6]\n",
      " [ 93  10]] \n",
      "\n",
      "[[2237   43]\n",
      " [ 839   93]]\n"
     ]
    }
   ],
   "source": [
    "mc_test_pred = proximity_lgMdl.predict(X_test)\n",
    "mc_full_pred = proximity_lgMdl.predict(mc_logreg_scaled_dims)\n",
    "\n",
    "conf_matrix_mctest = confusion_matrix(y_test, mc_test_pred)\n",
    "conf_matrix_mcfull = confusion_matrix(mc_target, mc_full_pred)\n",
    "\n",
    "print(conf_matrix_mctest,'\\n')\n",
    "print(conf_matrix_mcfull)"
   ]
  },
  {
   "cell_type": "markdown",
   "metadata": {},
   "source": [
    "$\\uparrow$ The ideal case would be zeros in row-1,column-2 and row-2,column-1.  \n",
    "Based on the confusion matrices for the test set and full set, our model did some things well, others not so well."
   ]
  },
  {
   "cell_type": "markdown",
   "metadata": {},
   "source": [
    "- We show the confusion matrix for regression on all the data below, to further quantify our results."
   ]
  },
  {
   "cell_type": "code",
   "execution_count": 132,
   "metadata": {},
   "outputs": [
    {
     "name": "stdout",
     "output_type": "stream",
     "text": [
      "             precision    recall  f1-score   support\n",
      "\n",
      "          0       0.73      0.98      0.84      2280\n",
      "          1       0.68      0.10      0.17       932\n",
      "\n",
      "avg / total       0.71      0.73      0.64      3212\n",
      "\n"
     ]
    }
   ],
   "source": [
    "print(classification_report(mc_target,mc_full_pred))"
   ]
  },
  {
   "cell_type": "markdown",
   "metadata": {
    "collapsed": true
   },
   "source": [
    "---\n",
    "\n",
    "<div class=\"alert alert-block alert-warning\">\n",
    "$\\circ$ <font face='Avenir' size=5>3. What key factor determines the tendency to move closer to work?</font><br>\n",
    "</div>"
   ]
  },
  {
   "cell_type": "markdown",
   "metadata": {},
   "source": [
    "<div class=\"alert alert-block alert-warning\">\n",
    "<b><font face='Avenir' size='3'>Answer/Discussion:</font></b></div>\n",
    "\n",
    "<font face=\"Avenir\" size='3'><br><br><b>Logistic Regression: Coefficients</b><br>\n",
    "Based on the regression coeffecients, contribution to the binary response of \"Are you keen on moving closer to your work place?\" is spread out over many factors. However, 3 factors do stand out with the highest contributions.<br>\n",
    "<br>\n",
    "$\\circ$ 3rd strongest factor: <u>Gender</u> - (coeff 0.20453212)\n",
    "<br> &nbsp; &nbsp; - Female was encoded as 0, and male as 1. Thus, being male improves the chance our model will predict \"yes\" on \"keen to move\".\n",
    "<br><br>\n",
    "$\\ast$ 2nd strongest factor: <u>Acceptable Commute Distance (Sought-after Job)</u> - (coeff 0.22756743)\n",
    "<br> &nbsp; &nbsp; - Someone willing to commute further for work, is also more prone to move closer. It is a benefit to them.\n",
    "<br><br>\n",
    "$\\star$ Strongest factor: <u>Age</u> - (coeff $-$0.2855298)\n",
    "<br> &nbsp; &nbsp; - Age is the key factor determining the tendency to move closer to work.\n",
    "<br> &nbsp; &nbsp; - The coefficient is negative. This implies that as age increases, there's less tendency to move closer to work.\n",
    "<br></font>\n",
    "\n",
    "<font face=\"Avenir\" size='3'><br><br><b>Logistic Regression: Precision and Recall</b><br>\n",
    "The `classification_report` reminds us to take the results \"with a grain of salt,\" as we say in the US.<br>\n",
    "$\\circ$ Precision is the ratio of correct predictions to total predictions of that outcome.<br>\n",
    "&nbsp; - Our Precision for \"<b>Not</b> keen on moving closer to your work place\" is only 73%.<br>\n",
    "&nbsp; - Meaning 26% of the time, we predicted this, we were wrong.<br>\n",
    "&nbsp; - The same arguments follow for <i>Yes</i> \"keen on moving closer to your work place\" - at 68% precision.<br>\n",
    "<br>\n",
    "$\\circ$ Recall is the ratio of well-predicted outcomes of that type, to the actual amount of those outcomes.<br>\n",
    "&nbsp; - At 98%, the model is great at predicting \"Not keen to move\", when that's the true response.<br>\n",
    "&nbsp; - However, at 10%, the model is very poor at predicting \"keen to move\" when that's the case.<br>\n",
    "<br></font>\n",
    "\n",
    "<font face=\"Avenir\" size='3'>With the recall of category `1` being so low, and the precision for cateogry `1` being moderate, we can't really conclude that our model can determine who <u>would</u> move closer for work. Since that's more important than who would _not_ move closer, the model shouldn't be used.<br>\n",
    "Its results would misclaffiy those who would move closer incorrectly, more than we'd want. \n",
    "</font>"
   ]
  },
  {
   "cell_type": "markdown",
   "metadata": {
    "collapsed": true
   },
   "source": [
    "#### __Aside__\n",
    "---\n",
    "- Should we run PCA anyway?"
   ]
  },
  {
   "cell_type": "markdown",
   "metadata": {
    "collapsed": true
   },
   "source": [
    "We could again use the `logreg01` table, and only consider records without certain `NULL`s:\n",
    "- `would_move_closer` $\\neq$ 2 \n",
    "- `curr_how_far` $\\neq$ 0\n",
    "- `fut_how_far` $\\neq$ 0\n",
    "- `curr_salary` $\\neq$ 0\n",
    "- `fut_salary` $\\neq$ 0\n",
    "\n",
    "This actually still includes $1032$ people with a `2` encoded (i.e. `NULL`) for `ever_worked`. That seems like it could skew the analysis.  \n",
    "$\\rightarrow$ Therefore, we should check for the key factors, excluding this group of people.  \n",
    "$\\Rightarrow$ However, above we determined `ever_worked` is redundant. We can omit this column from PCA, instead of the affected rows.\n",
    "\n",
    "\n",
    "- Despite the above, PCA is poorly suited to categorical data that isn't strictly binary.\n",
    "\n",
    "This make sense. The high-level goal of PCA is to find out \"which components lead to the greatest variation/separation of our data\". Even with binary data, a 0 or 1, e.g. Male or Female, is already a distinctive slice on the data. It isn't much different for dimensions with a small, finite number of categories. Furthermore, the real goal was achieved above. That goal was to find out influences on \"move closer\". This isn't what PCA would do. Thus, while I spent quite a bit of time looking into the implementation and conclusions for PCA, it's not what we're looking for, and not well suted to our data."
   ]
  },
  {
   "cell_type": "markdown",
   "metadata": {
    "collapsed": true
   },
   "source": [
    "<div class=\"alert alert-block alert-info\"><font face='Avenir' size=5>\n",
    "<b>Finish:</b> Answers and reasoning for each question have been given. Thank you!</font>\n",
    "</div>"
   ]
  }
 ],
 "metadata": {
  "kernelspec": {
   "display_name": "Python 3",
   "language": "python",
   "name": "python3"
  },
  "language_info": {
   "codemirror_mode": {
    "name": "ipython",
    "version": 3
   },
   "file_extension": ".py",
   "mimetype": "text/x-python",
   "name": "python",
   "nbconvert_exporter": "python",
   "pygments_lexer": "ipython3",
   "version": "3.6.3"
  }
 },
 "nbformat": 4,
 "nbformat_minor": 2
}
